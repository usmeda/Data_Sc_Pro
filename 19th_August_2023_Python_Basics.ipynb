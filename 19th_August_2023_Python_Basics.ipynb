{
 "cells": [
  {
   "cell_type": "code",
   "execution_count": 3,
   "id": "d77121ed-8ffc-4e4d-a11b-06a274e38668",
   "metadata": {},
   "outputs": [
    {
     "name": "stdout",
     "output_type": "stream",
     "text": [
      "3 2\n"
     ]
    }
   ],
   "source": [
    "# Python Basics Variale\n",
    "\n",
    "'''\n",
    "Assignment 1:\n",
    "Declare two variables, `x` and `y`, and assign them integer values. Swap the\n",
    "values of these variables without using any temporary variable.\n",
    "'''\n",
    "x,y = 2,3\n",
    "x = x + y\n",
    "y = x - y\n",
    "x = x - y\n",
    "print(x,y)"
   ]
  },
  {
   "cell_type": "code",
   "execution_count": 4,
   "id": "6e375a69-47c8-4a42-8a10-858eda7da8ea",
   "metadata": {},
   "outputs": [
    {
     "name": "stdin",
     "output_type": "stream",
     "text": [
      "Enter the length of the rectangle:  2\n",
      "Enter the width of the rectangle:  3\n"
     ]
    },
    {
     "name": "stdout",
     "output_type": "stream",
     "text": [
      "The area of the rectangle is:  6.0\n"
     ]
    }
   ],
   "source": [
    "'''\n",
    "Assignment 2:\n",
    "Create a program that calculates the area of a rectangle. Take the length and\n",
    "width as inputs from the user and store them in variables. Calculate and\n",
    "display the area.\n",
    "'''\n",
    "a = float(input('Enter the length of the rectangle: '))\n",
    "b = float(input('Enter the width of the rectangle: '))\n",
    "Area = a * b\n",
    "print('The area of the rectangle is: ', Area)"
   ]
  },
  {
   "cell_type": "code",
   "execution_count": 11,
   "id": "45678107-22aa-4a02-a6e0-250db48f2946",
   "metadata": {},
   "outputs": [
    {
     "name": "stdin",
     "output_type": "stream",
     "text": [
      "Enter the temperature in degree celcius:  22\n"
     ]
    },
    {
     "name": "stdout",
     "output_type": "stream",
     "text": [
      "The temperature in degree farenheit is:  71.6\n"
     ]
    }
   ],
   "source": [
    "'''\n",
    "Assignment 3:\n",
    "Write a Python program that converts temperatures from Celsius to\n",
    "Fahrenheit. Take the temperature in Celsius as input, store it in a variable,\n",
    "convert it to Fahrenheit, and display the result.\n",
    "'''\n",
    "\n",
    "cel = float(input('Enter the temperature in degree celcius: '))\n",
    "far = 9/5 * cel + 32\n",
    "print ('The temperature in degree farenheit is: ', far)"
   ]
  },
  {
   "cell_type": "code",
   "execution_count": 12,
   "id": "73568062-0950-4e51-9099-8c1c2f1b30e3",
   "metadata": {},
   "outputs": [
    {
     "name": "stdin",
     "output_type": "stream",
     "text": [
      "Please enter a string:  jumping jaw\n"
     ]
    },
    {
     "name": "stdout",
     "output_type": "stream",
     "text": [
      "The length of the string is:  11\n"
     ]
    }
   ],
   "source": [
    "# String Based Questions\n",
    "\n",
    "'''\n",
    "Assignment 1:\n",
    "Write a Python program that takes a string as input and prints the length of\n",
    "the string.\n",
    "'''\n",
    "\n",
    "_string = input('Please enter a string: ')\n",
    "print ('The length of the string is: ', len(_string))"
   ]
  },
  {
   "cell_type": "code",
   "execution_count": 16,
   "id": "1c813e3d-e45e-4cad-9559-29182429a0a3",
   "metadata": {},
   "outputs": [
    {
     "name": "stdin",
     "output_type": "stream",
     "text": [
      "Enter a sentence:  This Program Counts the number of Vowels in a Given Sentence\n"
     ]
    },
    {
     "name": "stdout",
     "output_type": "stream",
     "text": [
      "The number of vowels in the given sentence is:  18\n"
     ]
    }
   ],
   "source": [
    "'''\n",
    "Assignment 2:\n",
    "Create a program that takes a sentence from the user and counts the number\n",
    "of vowels (a, e, i, o, u) in the string.\n",
    "'''\n",
    "\n",
    "sen = input('Enter a sentence: ')\n",
    "vowels = 'aAeEiIoOuU'\n",
    "\n",
    "count = 0\n",
    "\n",
    "for letter in sen:\n",
    "    if letter in vowels:\n",
    "        count += 1\n",
    "\n",
    "print('The number of vowels in the given sentence is: ',count)\n",
    "    "
   ]
  },
  {
   "cell_type": "code",
   "execution_count": 17,
   "id": "71a40549-4898-4cf5-81e1-73912dc4eefb",
   "metadata": {},
   "outputs": [
    {
     "name": "stdin",
     "output_type": "stream",
     "text": [
      "Enter the string to print it in the reverse order:  A Long Sentence\n"
     ]
    },
    {
     "name": "stdout",
     "output_type": "stream",
     "text": [
      "ecnetneS gnoL A\n"
     ]
    }
   ],
   "source": [
    "'''\n",
    "Assignment 3:\n",
    "Given a string, reverse the order of characters using string slicing and print\n",
    "the reversed string.\n",
    "'''\n",
    "\n",
    "phrase = input(\"Enter the string to print it in the reverse order: \")\n",
    "print(phrase[::-1])"
   ]
  },
  {
   "cell_type": "code",
   "execution_count": 22,
   "id": "5c623643-7ae6-4e15-882a-665faf5bd58b",
   "metadata": {},
   "outputs": [
    {
     "name": "stdin",
     "output_type": "stream",
     "text": [
      "Enter a string to test whether it is a palindrome:  TEset\n"
     ]
    },
    {
     "name": "stdout",
     "output_type": "stream",
     "text": [
      "Its a palindrome\n"
     ]
    }
   ],
   "source": [
    "'''\n",
    "Assignment 4:\n",
    "Write a program that takes a string as input and checks if it is a palindrome\n",
    "(reads the same forwards and backwards).\n",
    "'''\n",
    "palin = input('Enter a string to test whether it is a palindrome: ')\n",
    "palin = str.casefold(palin)\n",
    "rev = reversed(palin)\n",
    "if list(palin) == list(rev):\n",
    "    print('Its a palindrome')\n",
    "else:\n",
    "    print('Its not a palindrome')"
   ]
  },
  {
   "cell_type": "code",
   "execution_count": 29,
   "id": "9c40a2e0-1514-4dac-8f50-2d7c32c68d84",
   "metadata": {},
   "outputs": [
    {
     "name": "stdin",
     "output_type": "stream",
     "text": [
      "Enter a sentence with spaces:  test space\n"
     ]
    },
    {
     "name": "stdout",
     "output_type": "stream",
     "text": [
      "testspace\n"
     ]
    }
   ],
   "source": [
    "'''\n",
    "Assignment 5:\n",
    "Create a program that takes a string as input and removes all the spaces from\n",
    "it. Print the modified string without spaces.\n",
    "'''\n",
    "\n",
    "sent = input('Enter a sentence with spaces: ')\n",
    "sent = sent.replace(' ', '')\n",
    "print(sent)"
   ]
  },
  {
   "cell_type": "code",
   "execution_count": null,
   "id": "58c1ebaa-fe04-4596-91ab-749cd965d8a3",
   "metadata": {},
   "outputs": [],
   "source": []
  }
 ],
 "metadata": {
  "kernelspec": {
   "display_name": "Python 3 (ipykernel)",
   "language": "python",
   "name": "python3"
  },
  "language_info": {
   "codemirror_mode": {
    "name": "ipython",
    "version": 3
   },
   "file_extension": ".py",
   "mimetype": "text/x-python",
   "name": "python",
   "nbconvert_exporter": "python",
   "pygments_lexer": "ipython3",
   "version": "3.10.8"
  }
 },
 "nbformat": 4,
 "nbformat_minor": 5
}
