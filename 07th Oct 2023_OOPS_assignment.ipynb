{
 "cells": [
  {
   "cell_type": "markdown",
   "id": "594a0c36-536c-4526-a411-65a9fb1e4b5d",
   "metadata": {},
   "source": []
  },
  {
   "cell_type": "code",
   "execution_count": 1,
   "id": "bbe1c8e8-7ba9-4eef-af7c-4f268f17bd30",
   "metadata": {},
   "outputs": [],
   "source": [
    "'''\n",
    "Problem 1: Bank Account Create a class representing \n",
    "a bank account with attributes like account number, account holder name, and balance. \n",
    "Implement methods to deposit and withdraw money from the account.\n",
    "'''\n",
    "\n",
    "class bankacc:\n",
    "    \n",
    "    def accno(self, number):\n",
    "        print('This is the bank account number')\n",
    "        return number\n",
    "        \n",
    "    def name(self, accholder):\n",
    "        print('This is the name of the account holder')\n",
    "        return accholder\n",
    "    \n",
    "    def bal(self, accbal):\n",
    "        print('This is the balance in the bank account')\n",
    "        return accbal\n",
    "    \n",
    "    def deposit(self, amtdpst):\n",
    "        print('An amount is deposited in the account')\n",
    "        return amtdpst\n",
    "    \n",
    "    def withdraw(self, amtwit):\n",
    "        print('An amount is withdrawn in the account')\n",
    "        return amtwit"
   ]
  },
  {
   "cell_type": "code",
   "execution_count": 2,
   "id": "3509454d-9137-451f-bad0-801610613e13",
   "metadata": {},
   "outputs": [],
   "source": [
    "ujwal = bankacc()"
   ]
  },
  {
   "cell_type": "code",
   "execution_count": 5,
   "id": "424e8163-55b2-4c43-962d-2d2794fd4847",
   "metadata": {},
   "outputs": [
    {
     "name": "stdout",
     "output_type": "stream",
     "text": [
      "This is the bank account number\n"
     ]
    },
    {
     "data": {
      "text/plain": [
       "1234"
      ]
     },
     "execution_count": 5,
     "metadata": {},
     "output_type": "execute_result"
    }
   ],
   "source": [
    "ujwal.accno(1234)"
   ]
  },
  {
   "cell_type": "code",
   "execution_count": 6,
   "id": "e4fdbcee-b3fc-4fa7-b35e-137386f82ada",
   "metadata": {},
   "outputs": [
    {
     "name": "stdout",
     "output_type": "stream",
     "text": [
      "This is the name of the account holder\n"
     ]
    },
    {
     "data": {
      "text/plain": [
       "'Ujwal S Meda'"
      ]
     },
     "execution_count": 6,
     "metadata": {},
     "output_type": "execute_result"
    }
   ],
   "source": [
    "ujwal.name('Ujwal S Meda')"
   ]
  },
  {
   "cell_type": "code",
   "execution_count": 7,
   "id": "c58d6cf0-0575-4593-813e-37d12ddbb6ea",
   "metadata": {},
   "outputs": [
    {
     "name": "stdout",
     "output_type": "stream",
     "text": [
      "This is the balance in the bank account\n"
     ]
    },
    {
     "data": {
      "text/plain": [
       "100"
      ]
     },
     "execution_count": 7,
     "metadata": {},
     "output_type": "execute_result"
    }
   ],
   "source": [
    "ujwal.bal(100)"
   ]
  },
  {
   "cell_type": "code",
   "execution_count": 8,
   "id": "d6d56106-8b51-4896-b780-0b38daae7c96",
   "metadata": {},
   "outputs": [
    {
     "name": "stdout",
     "output_type": "stream",
     "text": [
      "An amount is deposited in the account\n"
     ]
    },
    {
     "data": {
      "text/plain": [
       "100"
      ]
     },
     "execution_count": 8,
     "metadata": {},
     "output_type": "execute_result"
    }
   ],
   "source": [
    "ujwal.deposit(100)"
   ]
  },
  {
   "cell_type": "code",
   "execution_count": 9,
   "id": "450ce94c-02c1-4344-9621-781b83b4be73",
   "metadata": {},
   "outputs": [
    {
     "name": "stdout",
     "output_type": "stream",
     "text": [
      "An amount is deposited in the account\n"
     ]
    },
    {
     "data": {
      "text/plain": [
       "50"
      ]
     },
     "execution_count": 9,
     "metadata": {},
     "output_type": "execute_result"
    }
   ],
   "source": [
    "ujwal.withdraw(50)"
   ]
  },
  {
   "cell_type": "markdown",
   "id": "286008db-0789-42ab-8e9d-67f414d80c82",
   "metadata": {},
   "source": []
  },
  {
   "cell_type": "code",
   "execution_count": 11,
   "id": "29793662-a097-465d-a5bd-395e98b196ec",
   "metadata": {},
   "outputs": [],
   "source": [
    "'''\n",
    "Problem 2: Employee Management Create a class representing an employee with attributes \n",
    "like employee ID, name, and salary. \n",
    "Implement methods to calculate the yearly bonus and display employee details.\n",
    "'''\n",
    "\n",
    "class empmgmt:\n",
    "    \n",
    "    def __init__(self, eid, ename, sal, bonus):\n",
    "        self.employee_id = eid\n",
    "        self.employee_name = ename\n",
    "        self.employee_salary = sal\n",
    "        self.employee_bonus = bonus\n",
    "    \n",
    "    def employee_details(self):\n",
    "        print('The following are the details of the employee, ', \n",
    "              'Name: ', self.employee_name, \n",
    "              'ID: ', self.employee_id, \n",
    "              'Salary: ', self.employee_salary)\n",
    "        \n",
    "    def yearly_bonus(self):\n",
    "        print('The bonus is: ', self.employee_bonus, '%')\n",
    "        print('The details of the employee with revised salary are, ')\n",
    "        print('Employee Name: ', self.employee_name)\n",
    "        print('Employee ID: ', self.employee_id)\n",
    "        print(\"Employee's Revised Salary: \", self.employee_salary*(1 + self.employee_bonus/100))"
   ]
  },
  {
   "cell_type": "code",
   "execution_count": 12,
   "id": "c37f95d8-496b-40f4-82f7-b7816fa2d327",
   "metadata": {},
   "outputs": [],
   "source": [
    "test = empmgmt(5744, 'Ujwal', 25000, 10)"
   ]
  },
  {
   "cell_type": "code",
   "execution_count": 13,
   "id": "f088866a-79f4-4c45-a6a9-cee17eb93f8c",
   "metadata": {},
   "outputs": [
    {
     "name": "stdout",
     "output_type": "stream",
     "text": [
      "The following are the details of the employee,  Name:  Ujwal ID:  5744 Salary:  25000\n"
     ]
    }
   ],
   "source": [
    "test.employee_details()"
   ]
  },
  {
   "cell_type": "code",
   "execution_count": 14,
   "id": "63190930-5764-4685-86da-59dea1ebcf75",
   "metadata": {},
   "outputs": [
    {
     "name": "stdout",
     "output_type": "stream",
     "text": [
      "The bonus is:  10 %\n",
      "The details of the employee with revised salary are, \n",
      "Employee Name:  Ujwal\n",
      "Employee ID:  5744\n",
      "Employee's Revised Salary:  27500.000000000004\n"
     ]
    }
   ],
   "source": [
    "test.yearly_bonus()"
   ]
  },
  {
   "cell_type": "code",
   "execution_count": null,
   "id": "556e7e2f-806a-400c-b8ce-6ee2c2f9b60b",
   "metadata": {},
   "outputs": [],
   "source": []
  },
  {
   "cell_type": "markdown",
   "id": "905bdedd-7893-447c-b1b6-9e3b03f656e6",
   "metadata": {},
   "source": []
  },
  {
   "cell_type": "code",
   "execution_count": 28,
   "id": "774c47e9-062a-46dd-aee9-076a7df061bd",
   "metadata": {},
   "outputs": [],
   "source": [
    "'''\n",
    "Problem 3: Vehicle Rental Create a class representing a vehicle rental system. \n",
    "Implement methods to rent a vehicle, return a vehicle, and display available vehicles.\n",
    "'''\n",
    "\n",
    "class vehicle():\n",
    "    \n",
    "    def __init__(self):\n",
    "        self.vehicle_lst = ['Benz', 'BMW', 'Audi', 'Fortuner']\n",
    "    \n",
    "    def available_vehicles(self):\n",
    "        print ('The following vehicles are available for rent: ', self.vehicle_lst)\n",
    "        \n",
    "    def rent_a_vehicle(self):\n",
    "        self.available_vehicles()\n",
    "        choice = input('Enter your choice: ')\n",
    "        if choice in self.vehicle_lst:\n",
    "            print ('The vehicle is available for rent!')\n",
    "        self.vehicle_lst.remove(choice)\n",
    "        revised_lst = self.vehicle_lst\n",
    "        print('The revised list after renting is :', revised_lst)\n",
    "        \n",
    "    def return_a_vehicle(self):\n",
    "        retr = input('Enter the name of the vehicle that you would like to return: ')\n",
    "        if retr not in self.vehicle_lst:\n",
    "            self.vehicle_lst.append(retr)\n",
    "        revised_lst = self.vehicle_lst\n",
    "        print('The revised list after renting is :', revised_lst)"
   ]
  },
  {
   "cell_type": "code",
   "execution_count": 29,
   "id": "b89876da-232b-4b2e-aee4-0d2e10f94a49",
   "metadata": {},
   "outputs": [],
   "source": [
    "cust_01 = vehicle()"
   ]
  },
  {
   "cell_type": "code",
   "execution_count": 30,
   "id": "b28b78a7-1d61-4d1c-add9-1f6a58acd777",
   "metadata": {},
   "outputs": [
    {
     "name": "stdout",
     "output_type": "stream",
     "text": [
      "The following vehicles are available for rent:  ['Benz', 'BMW', 'Audi', 'Fortuner']\n"
     ]
    },
    {
     "name": "stdin",
     "output_type": "stream",
     "text": [
      "Enter your choice:  BMW\n"
     ]
    },
    {
     "name": "stdout",
     "output_type": "stream",
     "text": [
      "The vehicle is available for rent!\n",
      "The revised list after renting is : ['Benz', 'Audi', 'Fortuner']\n"
     ]
    }
   ],
   "source": [
    "cust_01.rent_a_vehicle()"
   ]
  },
  {
   "cell_type": "code",
   "execution_count": 31,
   "id": "60f6a957-fa93-4943-83f1-fb31d17c6130",
   "metadata": {},
   "outputs": [
    {
     "name": "stdin",
     "output_type": "stream",
     "text": [
      "Enter the name of the vehicle that you would like to return:  Tesla\n"
     ]
    },
    {
     "name": "stdout",
     "output_type": "stream",
     "text": [
      "The revised list after renting is : ['Benz', 'Audi', 'Fortuner', 'Tesla']\n"
     ]
    }
   ],
   "source": [
    "cust_01.return_a_vehicle()"
   ]
  },
  {
   "cell_type": "code",
   "execution_count": null,
   "id": "5bbeb635-be1a-4a60-b407-4ad35ac02c85",
   "metadata": {},
   "outputs": [],
   "source": []
  },
  {
   "cell_type": "markdown",
   "id": "e0252a6b-0ff2-4776-ad90-91af07725a08",
   "metadata": {},
   "source": []
  },
  {
   "cell_type": "code",
   "execution_count": 20,
   "id": "8e605c4c-d04c-4edf-b96a-44d7f777d64e",
   "metadata": {},
   "outputs": [],
   "source": [
    "'''\n",
    "Problem 4: Library Catalog Create classes representing a library and a book. \n",
    "Implement methods to add books to the library, borrow books, and display available books.\n",
    "'''\n",
    "\n",
    "class library():\n",
    "    \n",
    "    def __init__(self, title, publisher):\n",
    "        \n",
    "        self.book_title = title\n",
    "        self.book_publisher = publisher\n",
    "        self.books_list = [ ]\n",
    "        \n",
    "    def add_book(self):\n",
    "        self.books_list.append(self.book_title)\n",
    "        add = input('Enter the name of the book that you would like to deposit in the library: ')\n",
    "        self.books_list.append(add)\n",
    "        print('A new book is added to the library!')\n",
    "        print('The following are the books avaialbe in the library', self.books_list)\n",
    "        \n",
    "    def borrow_book(self):\n",
    "        borrow = input('Enter the name of the book that you would like to borrow: ')\n",
    "        if borrow in self.books_list:\n",
    "            print('The book is available')\n",
    "            self.books_list.remove(borrow)\n",
    "        else:\n",
    "            print('The book is not available')\n",
    "            print('Updated list of books available in the library')\n",
    "        \n",
    "        return self.books_list\n",
    "        "
   ]
  },
  {
   "cell_type": "code",
   "execution_count": 21,
   "id": "ccd141e7-3ee7-4149-937a-0f2af0cb86e7",
   "metadata": {},
   "outputs": [],
   "source": [
    "user = library('cloud computing', 'Elsevier')"
   ]
  },
  {
   "cell_type": "code",
   "execution_count": 22,
   "id": "957641ac-9152-4a0b-bcb9-e5af2fe02a6e",
   "metadata": {},
   "outputs": [
    {
     "name": "stdin",
     "output_type": "stream",
     "text": [
      "Enter the name of the book that you would like to deposit in the library:  DSA\n"
     ]
    },
    {
     "name": "stdout",
     "output_type": "stream",
     "text": [
      "A new book is added to the library!\n",
      "The following are the books avaialbe in the library ['cloud computing', 'DSA']\n"
     ]
    }
   ],
   "source": [
    "user.add_book()"
   ]
  },
  {
   "cell_type": "code",
   "execution_count": 23,
   "id": "7756c2fe-f7c3-4cc2-8015-dcfbf4bd0e7b",
   "metadata": {},
   "outputs": [
    {
     "name": "stdin",
     "output_type": "stream",
     "text": [
      "Enter the name of the book that you would like to borrow:  datascience\n"
     ]
    },
    {
     "name": "stdout",
     "output_type": "stream",
     "text": [
      "The book is not available\n",
      "Updated list of books available in the library\n"
     ]
    },
    {
     "data": {
      "text/plain": [
       "['cloud computing', 'DSA']"
      ]
     },
     "execution_count": 23,
     "metadata": {},
     "output_type": "execute_result"
    }
   ],
   "source": [
    "user.borrow_book()"
   ]
  },
  {
   "cell_type": "code",
   "execution_count": null,
   "id": "922218e7-5748-4eca-a9a3-7407c2de1f28",
   "metadata": {},
   "outputs": [],
   "source": []
  },
  {
   "cell_type": "markdown",
   "id": "afbd9a7c-8fd6-46ef-9c89-0b42fdde5c57",
   "metadata": {},
   "source": []
  },
  {
   "cell_type": "code",
   "execution_count": 31,
   "id": "3fc74e35-4966-44d4-816c-1910e7574338",
   "metadata": {},
   "outputs": [],
   "source": [
    "'''\n",
    "Problem 5: Product Inventory Create classes representing a product and an inventory system. \n",
    "Implement methods to add products to the inventory, update product quantity, and display available products.\n",
    "\n",
    "'''\n",
    "\n",
    "class inventory():\n",
    "    \n",
    "    def __init__(self, product, quantity):\n",
    "        self.product_details = {product:quantity}\n",
    "        \n",
    "    def add_product(self):\n",
    "        product = input('Enter the name of the product that you would like to add to the inventory: ')\n",
    "        quantity = int(input('Enter the quantity of the product: '))\n",
    "        if product in self.product_details:\n",
    "            self.product_details [product] += quantity\n",
    "        else:\n",
    "            self.product_details [product] = quantity\n",
    "        print('The current status of the inventory is : ', self.product_details)   "
   ]
  },
  {
   "cell_type": "code",
   "execution_count": 32,
   "id": "0f41fa68-9933-44e9-be55-9d8255a600fd",
   "metadata": {},
   "outputs": [],
   "source": [
    "new = inventory('apple', 2)"
   ]
  },
  {
   "cell_type": "code",
   "execution_count": 33,
   "id": "87d0a283-5f9d-4d9a-91c9-f7e734aabdb0",
   "metadata": {},
   "outputs": [
    {
     "name": "stdin",
     "output_type": "stream",
     "text": [
      "Enter the name of the product that you would like to add to the inventory:  kivi\n",
      "Enter the quantity of the product:  3\n"
     ]
    },
    {
     "name": "stdout",
     "output_type": "stream",
     "text": [
      "The current status of the inventory is :  {'apple': 2, 'kivi': 3}\n"
     ]
    }
   ],
   "source": [
    "new.add_product()"
   ]
  },
  {
   "cell_type": "code",
   "execution_count": 34,
   "id": "bcde56b2-5a5f-4510-ba58-777f1cb8f56c",
   "metadata": {},
   "outputs": [
    {
     "name": "stdin",
     "output_type": "stream",
     "text": [
      "Enter the name of the product that you would like to add to the inventory:  apple\n",
      "Enter the quantity of the product:  3\n"
     ]
    },
    {
     "name": "stdout",
     "output_type": "stream",
     "text": [
      "The current status of the inventory is :  {'apple': 5, 'kivi': 3}\n"
     ]
    }
   ],
   "source": [
    "new.add_product()"
   ]
  },
  {
   "cell_type": "markdown",
   "id": "f1db6e57-ca6d-4484-8394-95624c511700",
   "metadata": {},
   "source": []
  },
  {
   "cell_type": "code",
   "execution_count": 7,
   "id": "185fc5f8-c5d4-4c03-b2c7-aad7929db709",
   "metadata": {},
   "outputs": [],
   "source": [
    "'''\n",
    "Problem 6: Shape Calculation Create a class representing a shape with attributes \n",
    "like length, width, and height. \n",
    "Implement methods to calculate the area and perimeter of the shape.\n",
    "'''\n",
    "\n",
    "class shape_identification ():\n",
    "    \n",
    "    def __init__(self):\n",
    "        self.shape = input('Enter the shape (square/rectangle):')\n",
    "        self.length_of_shape = float(input('Enter the length:'))\n",
    "        self.width_of_shape = float(input('Enter the width:'))\n",
    "        \n",
    "        \n",
    "    def square(self):\n",
    "        area_of_square = self.length_of_shape * self.width_of_shape\n",
    "        perimeter_of_square = 4 * self.length_of_shape\n",
    "        print('The area of ', self.shape, ':', area_of_square)\n",
    "        print('The periment of ', self.shape, ':', perimeter_of_square)\n",
    "        \n",
    "    def rectangle(self):\n",
    "        area_of_rectangle = self.length_of_shape * self.width_of_shape\n",
    "        perimeter_of_rectangle = 2 * self.length_of_shape + 2 * self.width_of_shape\n",
    "        print('The area of', self.shape, ':', area_of_rectangle)\n",
    "        print('The periment of', self.shape, ':', perimeter_of_rectangle)\n",
    "        \n",
    "    def calculation(self):\n",
    "        if self.shape == 'square':\n",
    "            self.square()\n",
    "            \n",
    "        elif self.shape == 'rectangle':\n",
    "            self.rectangle()"
   ]
  },
  {
   "cell_type": "code",
   "execution_count": 8,
   "id": "9a5df74f-da0c-4d26-9cce-afe8aba40221",
   "metadata": {},
   "outputs": [
    {
     "name": "stdin",
     "output_type": "stream",
     "text": [
      "Enter the shape (square/rectangle): square\n",
      "Enter the length: 25\n",
      "Enter the width: 25\n"
     ]
    }
   ],
   "source": [
    "tet = shape_identification()"
   ]
  },
  {
   "cell_type": "code",
   "execution_count": 9,
   "id": "4f775a94-5f0e-4f3a-91a3-2aa93c7d7bd3",
   "metadata": {},
   "outputs": [
    {
     "name": "stdout",
     "output_type": "stream",
     "text": [
      "The area of  square : 625.0\n",
      "The periment of  square : 100.0\n"
     ]
    }
   ],
   "source": [
    "tet.calculation()"
   ]
  },
  {
   "cell_type": "code",
   "execution_count": null,
   "id": "e79e56b4-8b67-4fb1-96f1-92ae99dc7042",
   "metadata": {},
   "outputs": [],
   "source": []
  },
  {
   "cell_type": "code",
   "execution_count": 64,
   "id": "4cc54023-5350-489b-9eb4-124f1269bb67",
   "metadata": {},
   "outputs": [],
   "source": [
    "'''\n",
    "Problem 7: Student Management Create a class representing a student with attributes \n",
    "like student ID, name, and grades. Implement methods to calculate the average grade \n",
    "and display student details.\n",
    "'''\n",
    "\n",
    "class student_detials():\n",
    "    \n",
    "    def __init__(self, name, stid, subject, marks):\n",
    "        self.student_name = name\n",
    "        self.student_id = stid\n",
    "        self.subject_name = subject\n",
    "        self.subject_marks = marks\n",
    "        self.test = {self.subject_name : self.subject_marks}\n",
    "        \n",
    "    def add_sub_marks(self):\n",
    "        self.subject_name = input('Enter the subject name: ')\n",
    "        self.subject_marks = int(input('Enter the marks: '))\n",
    "        if self.subject_name in self.test:\n",
    "            print('The subject details are already added!. Enter the details of other subjects')\n",
    "            self.subject_name = input(\"Enter the subject name. Enter the word 'thats all' if there are no more entries): \")\n",
    "            \n",
    "            if self.subject_name != 'thats all':\n",
    "                self.subject_marks = int(input('Enter the marks: '))\n",
    "                self.test[self.subject_name] = self.subject_marks\n",
    "        else:\n",
    "            self.test[self.subject_name] = self.subject_marks\n",
    "        \n",
    "        grade = sum(self.test.values())/float(len(self.test))\n",
    "        \n",
    "        if grade < 40:\n",
    "            print('F grade - Fail')\n",
    "            \n",
    "        elif grade < 60:\n",
    "            print('B grade - second class')\n",
    "            \n",
    "        elif grade < 75:\n",
    "            print('A grade - first class')\n",
    "        \n",
    "        else:\n",
    "            print('S grade - distinction')\n",
    "            \n",
    "        return self.student_name, self.student_id, self.test, grade                                "
   ]
  },
  {
   "cell_type": "code",
   "execution_count": 65,
   "id": "6062e252-a696-4df2-9671-13e11e1b799b",
   "metadata": {},
   "outputs": [],
   "source": [
    "student1 = student_detials('ujwal', 5744, 'python', 98)"
   ]
  },
  {
   "cell_type": "code",
   "execution_count": 66,
   "id": "e7780d5d-0810-42d5-915c-07d18dfdbb66",
   "metadata": {},
   "outputs": [
    {
     "name": "stdin",
     "output_type": "stream",
     "text": [
      "Enter the subject name:  cloud\n",
      "Enter the marks:  40\n"
     ]
    },
    {
     "name": "stdout",
     "output_type": "stream",
     "text": [
      "A grade - first class\n"
     ]
    },
    {
     "data": {
      "text/plain": [
       "('ujwal', 5744, {'python': 98, 'cloud': 40}, 69.0)"
      ]
     },
     "execution_count": 66,
     "metadata": {},
     "output_type": "execute_result"
    }
   ],
   "source": [
    "student1.add_sub_marks()"
   ]
  },
  {
   "cell_type": "code",
   "execution_count": 67,
   "id": "146bedda-3ffc-4f1a-a6f4-893082ab1e7c",
   "metadata": {},
   "outputs": [
    {
     "name": "stdin",
     "output_type": "stream",
     "text": [
      "Enter the subject name:  python\n",
      "Enter the marks:  35\n"
     ]
    },
    {
     "name": "stdout",
     "output_type": "stream",
     "text": [
      "The subject details are already added!. Enter the details of other subjects\n"
     ]
    },
    {
     "name": "stdin",
     "output_type": "stream",
     "text": [
      "Enter the subject name. Enter the word 'thats all' if there are no more entries):  datascience\n",
      "Enter the marks:  20\n"
     ]
    },
    {
     "name": "stdout",
     "output_type": "stream",
     "text": [
      "B grade - second class\n"
     ]
    },
    {
     "data": {
      "text/plain": [
       "('ujwal',\n",
       " 5744,\n",
       " {'python': 98, 'cloud': 40, 'datascience': 20},\n",
       " 52.666666666666664)"
      ]
     },
     "execution_count": 67,
     "metadata": {},
     "output_type": "execute_result"
    }
   ],
   "source": [
    "student1.add_sub_marks()"
   ]
  },
  {
   "cell_type": "code",
   "execution_count": null,
   "id": "a75f6202-f541-4810-ae4e-af52dda5f367",
   "metadata": {},
   "outputs": [],
   "source": []
  },
  {
   "cell_type": "code",
   "execution_count": 72,
   "id": "de476c8b-73e0-4350-942e-dd14e4597715",
   "metadata": {},
   "outputs": [],
   "source": [
    "'''\n",
    "Problem 8: Email Management Create a class representing an email with attributes \n",
    "like sender, recipient, and subject. Implement methods to send an email and display email details.\n",
    "'''\n",
    "\n",
    "class email():\n",
    "    \n",
    "    def __init__(self, sender, recepient, subject):\n",
    "        \n",
    "        self.sender = sender\n",
    "        self.recepient = recepient\n",
    "        self.subject = subject\n",
    "        \n",
    "    def send_email(self):\n",
    "        content = input('Type down the content of the email: ')\n",
    "        print('from: ', self.sender, '\\nto: ', self.recepient, '\\n',content)"
   ]
  },
  {
   "cell_type": "code",
   "execution_count": 74,
   "id": "5cedfc27-73d4-422f-8f24-8b038fb53456",
   "metadata": {},
   "outputs": [],
   "source": [
    "new = email('ujwal', 'meda', 'test mail')"
   ]
  },
  {
   "cell_type": "code",
   "execution_count": 75,
   "id": "8b9e5d84-8108-406b-bfce-9bacb5a348e3",
   "metadata": {},
   "outputs": [
    {
     "name": "stdin",
     "output_type": "stream",
     "text": [
      "Type down the content of the email:  This is a test mail\n"
     ]
    },
    {
     "name": "stdout",
     "output_type": "stream",
     "text": [
      "from:  ujwal \n",
      "to:  meda \n",
      " This is a test mail\n"
     ]
    }
   ],
   "source": [
    "new.send_email()"
   ]
  },
  {
   "cell_type": "code",
   "execution_count": null,
   "id": "eaa0d56c-ae46-4515-83cd-526c48b62594",
   "metadata": {},
   "outputs": [],
   "source": []
  },
  {
   "cell_type": "code",
   "execution_count": 83,
   "id": "acf44276-5c56-41fe-bbf0-f6752e753880",
   "metadata": {},
   "outputs": [],
   "source": [
    "'''\n",
    "Problem 9: Social Media Profile Create a class representing a social media profile \n",
    "with attributes like username and posts. Implement methods \n",
    "to add posts, display posts, and search for posts by keyword.\n",
    "'''\n",
    "\n",
    "class social_media():\n",
    "    \n",
    "    def __init__(self, username, posts = []):\n",
    "        \n",
    "        self.username = username\n",
    "        self.posts = posts\n",
    "        \n",
    "    def add_posts(self):\n",
    "        post = input('Enter your post here: ')\n",
    "        self.posts.append(post)\n",
    "        \n",
    "        return post\n",
    "    \n",
    "    def search_post(self):\n",
    "        keyword = input('Enter the keyword: ')\n",
    "        for pst in self.posts:\n",
    "            if keyword in pst:\n",
    "                print(pst)\n",
    "            else:\n",
    "                print('There is no such post!')"
   ]
  },
  {
   "cell_type": "code",
   "execution_count": 84,
   "id": "5abfbf8f-7758-48b1-81c2-e57614a244d3",
   "metadata": {},
   "outputs": [],
   "source": [
    "test = social_media('usmeda')"
   ]
  },
  {
   "cell_type": "code",
   "execution_count": 85,
   "id": "36ca73f3-b82a-4684-8f24-4ee172ea697c",
   "metadata": {},
   "outputs": [
    {
     "name": "stdin",
     "output_type": "stream",
     "text": [
      "Enter your post here:  This is my first post\n"
     ]
    },
    {
     "data": {
      "text/plain": [
       "'This is my first post'"
      ]
     },
     "execution_count": 85,
     "metadata": {},
     "output_type": "execute_result"
    }
   ],
   "source": [
    "test.add_posts()"
   ]
  },
  {
   "cell_type": "code",
   "execution_count": 86,
   "id": "f69a667e-e83f-4343-a420-d264ce323d72",
   "metadata": {},
   "outputs": [
    {
     "name": "stdin",
     "output_type": "stream",
     "text": [
      "Enter the keyword:  first\n"
     ]
    },
    {
     "name": "stdout",
     "output_type": "stream",
     "text": [
      "This is my first post\n"
     ]
    }
   ],
   "source": [
    "test.search_post()"
   ]
  },
  {
   "cell_type": "code",
   "execution_count": 87,
   "id": "34c3bf1f-c403-40d9-a89b-253753862632",
   "metadata": {},
   "outputs": [
    {
     "name": "stdin",
     "output_type": "stream",
     "text": [
      "Enter the keyword:  second\n"
     ]
    },
    {
     "name": "stdout",
     "output_type": "stream",
     "text": [
      "There is no such post!\n"
     ]
    }
   ],
   "source": [
    "test.search_post()"
   ]
  },
  {
   "cell_type": "markdown",
   "id": "34f9ee74-7e29-476d-a2d6-19301cf50f27",
   "metadata": {},
   "source": []
  },
  {
   "cell_type": "code",
   "execution_count": 13,
   "id": "ea7c4565-0c7b-4908-9d57-e26bfe56c3df",
   "metadata": {},
   "outputs": [],
   "source": [
    "'''\n",
    "Problem 10: ToDo List Create a class representing a ToDo list with attributes like tasks and due dates. \n",
    "Implement methods to add tasks, mark tasks as completed, and display pending tasks.\n",
    "'''\n",
    "\n",
    "class ToDo():\n",
    "    \n",
    "    def __init__(self, lst = []):\n",
    "        self.task = input('Enter the task (enter the word \"break\" if there are no more entries):')\n",
    "        self.deadline = input('Enter the deadline:')\n",
    "        self.list = lst\n",
    "        \n",
    "    def todo_list(self):\n",
    "        if self.task != 'break':\n",
    "            self.list.append(self.task)\n",
    "            self.task\n",
    "        else: pass\n",
    "            \n",
    "        print('The following is the To Do list:')\n",
    "        for i in self.list:\n",
    "            print (i)"
   ]
  },
  {
   "cell_type": "code",
   "execution_count": 14,
   "id": "cbdaa8c2-cad6-4a61-a983-b7537292bbb2",
   "metadata": {},
   "outputs": [
    {
     "name": "stdin",
     "output_type": "stream",
     "text": [
      "Enter the task (enter the word \"break\" if there are no more entries): This is my first task\n",
      "Enter the deadline: 11.10.2023\n"
     ]
    }
   ],
   "source": [
    "test = ToDo()"
   ]
  },
  {
   "cell_type": "code",
   "execution_count": 15,
   "id": "fdef78a8-1b8a-4c36-bbbb-318b1bf4dd8e",
   "metadata": {},
   "outputs": [
    {
     "name": "stdout",
     "output_type": "stream",
     "text": [
      "The following is the To Do list:\n",
      "This is my first task\n"
     ]
    }
   ],
   "source": [
    "test.todo_list()"
   ]
  },
  {
   "cell_type": "code",
   "execution_count": null,
   "id": "99da8132-4518-418f-b844-acf8449b4627",
   "metadata": {},
   "outputs": [],
   "source": []
  },
  {
   "cell_type": "code",
   "execution_count": null,
   "id": "2f38321c-8e4c-43d6-a6d5-1608e2d19c00",
   "metadata": {},
   "outputs": [],
   "source": []
  }
 ],
 "metadata": {
  "kernelspec": {
   "display_name": "Python 3 (ipykernel)",
   "language": "python",
   "name": "python3"
  },
  "language_info": {
   "codemirror_mode": {
    "name": "ipython",
    "version": 3
   },
   "file_extension": ".py",
   "mimetype": "text/x-python",
   "name": "python",
   "nbconvert_exporter": "python",
   "pygments_lexer": "ipython3",
   "version": "3.10.8"
  }
 },
 "nbformat": 4,
 "nbformat_minor": 5
}
