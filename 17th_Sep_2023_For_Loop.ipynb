{
 "cells": [
  {
   "cell_type": "markdown",
   "id": "e21e6ae2-92bc-483d-9a03-f9f797dca80d",
   "metadata": {
    "jp-MarkdownHeadingCollapsed": true,
    "tags": []
   },
   "source": [
    "# For Loop Problems"
   ]
  },
  {
   "cell_type": "code",
   "execution_count": 7,
   "id": "99093a7f-71ad-42ba-8872-13c714c07530",
   "metadata": {},
   "outputs": [
    {
     "name": "stdout",
     "output_type": "stream",
     "text": [
      "1\n",
      "2\n",
      "3\n",
      "4\n",
      "5\n",
      "6\n",
      "7\n",
      "8\n",
      "9\n",
      "10\n"
     ]
    }
   ],
   "source": [
    "#1.\tWrite a Python program to print numbers from 1 to 10 using a for loop.\n",
    "\n",
    "for i in range (10):\n",
    "    print(i+1)"
   ]
  },
  {
   "cell_type": "markdown",
   "id": "7863bafb-2cfa-49eb-87a3-39adaa1beea7",
   "metadata": {},
   "source": [
    "#2.\tExplain the difference between a for loop and a while loop in Python.\n",
    "\n",
    "In Python, both `for` and `while` loops are used to repeat a block of code, but they serve different purposes and are used in different scenarios.\n",
    "\n",
    "**For Loop:**\n",
    "A `for` loop in Python is used to iterate over a sequence (like a list, tuple, dictionary, set, or string) or other iterable objects. Iterating over a sequence is called traversal. Here's an example:\n",
    "\n",
    "```python\n",
    "for i in range(5):\n",
    "    print(i)\n",
    "```\n",
    "\n",
    "In this example, the `for` loop will print the numbers 0 through 4. The `range(5)` function generates a sequence of numbers from 0 up to (but not including) 5.\n",
    "\n",
    "**While Loop:**\n",
    "A `while` loop in Python is used to repeatedly execute a block of statements as long as the given condition is true. The condition is checked before executing the block of statements. Here's an example:\n",
    "\n",
    "```python\n",
    "i = 0\n",
    "while i < 5:\n",
    "    print(i)\n",
    "    i += 1\n",
    "```\n",
    "\n",
    "In this example, the `while` loop will also print the numbers 0 through 4. The loop continues to execute as long as `i < 5` is true.\n",
    "\n",
    "**Key Differences:**\n",
    "- A `for` loop is typically used when you know how many times you want to iterate.\n",
    "- A `while` loop is typically used when you want to repeat something until a certain condition is met, and you don't necessarily know how many times you'll need to loop.\n",
    "- In a `for` loop, the iteration variable is automatically updated at each iteration. In a `while` loop, you need to update the iteration variable manually."
   ]
  },
  {
   "cell_type": "code",
   "execution_count": 10,
   "id": "60624a8a-9c12-4600-85f4-00fddeeec2ed",
   "metadata": {},
   "outputs": [
    {
     "name": "stdout",
     "output_type": "stream",
     "text": [
      "5050\n"
     ]
    }
   ],
   "source": [
    "#3.\tWrite a Python program to calculate the sum of all numbers from 1 to 100 using a for loop.\n",
    "\n",
    "total = 0\n",
    "\n",
    "for i in range (100):\n",
    "    total = total + (i+1)\n",
    "    \n",
    "print(total)    "
   ]
  },
  {
   "cell_type": "markdown",
   "id": "a4a662b5-9b13-4226-afa6-eb4c41580b8c",
   "metadata": {},
   "source": [
    "#4.\tHow do you iterate through a list using a for loop in Python?\n",
    "\n",
    "Iterating through a list using a for loop in Python:\n",
    "\n",
    "```python\n",
    "# Here is a sample list\n",
    "my_list = [1, 2, 3, 4, 5]\n",
    "\n",
    "# Use a for loop to iterate through the list\n",
    "for item in my_list:\n",
    "    print(item)\n",
    "```\n",
    "\n",
    "In this code, `my_list` is the list you want to iterate over. The `for` loop goes through each item in the list one by one and assigns it to the variable `item`. The `print(item)` statement inside the loop then prints out the value of `item` for each iteration of the loop. This will print out all the items in the list."
   ]
  },
  {
   "cell_type": "code",
   "execution_count": 11,
   "id": "7798704f-06a1-4bd6-a264-8a317a719021",
   "metadata": {},
   "outputs": [
    {
     "name": "stdout",
     "output_type": "stream",
     "text": [
      "720\n"
     ]
    }
   ],
   "source": [
    "#5.\tWrite a Python program to find the product of all elements in a list using a for loop.\n",
    "\n",
    "pdt = 1\n",
    "lst = [1,2,3,4,5,6]\n",
    "for i in lst:\n",
    "    pdt = pdt*i\n",
    "    \n",
    "print(pdt)"
   ]
  },
  {
   "cell_type": "code",
   "execution_count": 12,
   "id": "6d3f7da3-f6e2-4d29-aa5f-06e00f2c478e",
   "metadata": {},
   "outputs": [
    {
     "name": "stdout",
     "output_type": "stream",
     "text": [
      "2\n",
      "4\n",
      "6\n",
      "8\n",
      "10\n",
      "12\n",
      "14\n",
      "16\n",
      "18\n",
      "20\n"
     ]
    }
   ],
   "source": [
    "#6.\tCreate a Python program that prints all even numbers from 1 to 20 using a for loop.\n",
    "\n",
    "for i in range(1,21):\n",
    "    if i%2 == 0:\n",
    "        print(i)"
   ]
  },
  {
   "cell_type": "code",
   "execution_count": 14,
   "id": "90b7391d-9726-4a3a-a22d-2dc1b64af9e1",
   "metadata": {},
   "outputs": [
    {
     "name": "stdin",
     "output_type": "stream",
     "text": [
      "Enter a number:  5\n"
     ]
    },
    {
     "name": "stdout",
     "output_type": "stream",
     "text": [
      "120\n"
     ]
    }
   ],
   "source": [
    "#7.\tWrite a Python program that calculates the factorial of a number using a for loop.\n",
    "n = int(input('Enter a number: '))\n",
    "fact = 1\n",
    "for i in range (1,n+1):\n",
    "    fact = fact * i\n",
    "print(fact)"
   ]
  },
  {
   "cell_type": "code",
   "execution_count": 15,
   "id": "d2a48ab0-abe2-411b-a64b-60476f204573",
   "metadata": {},
   "outputs": [
    {
     "name": "stdin",
     "output_type": "stream",
     "text": [
      "Enter a string:  ujwal\n"
     ]
    },
    {
     "name": "stdout",
     "output_type": "stream",
     "text": [
      "u\n",
      "j\n",
      "w\n",
      "a\n",
      "l\n"
     ]
    }
   ],
   "source": [
    "#8.\tHow can you iterate through the characters of a string using a for loop in Python?\n",
    "\n",
    "strng = input('Enter a string: ')\n",
    "for i in strng:\n",
    "    print(i)"
   ]
  },
  {
   "cell_type": "code",
   "execution_count": 16,
   "id": "35722187-2568-4c18-98c5-1819e2480746",
   "metadata": {},
   "outputs": [
    {
     "name": "stdout",
     "output_type": "stream",
     "text": [
      "87\n"
     ]
    }
   ],
   "source": [
    "#9.\tWrite a Python program to find the largest number in a list using a for loop.\n",
    "\n",
    "lst = [3,67,2,7,3,87]\n",
    "num = 0\n",
    "for i in lst:\n",
    "    if i > num:\n",
    "        num = i\n",
    "print(i)"
   ]
  },
  {
   "cell_type": "code",
   "execution_count": 27,
   "id": "d669e5d5-68e8-4d23-b5f3-bd77867ffa68",
   "metadata": {},
   "outputs": [
    {
     "name": "stdin",
     "output_type": "stream",
     "text": [
      "Enter a positive integer greater than 1:  10\n"
     ]
    },
    {
     "name": "stdout",
     "output_type": "stream",
     "text": [
      "[0, 1, 1, 2, 3, 5, 8, 13, 21, 34]\n"
     ]
    }
   ],
   "source": [
    "#10.\tCreate a Python program that prints the Fibonacci sequence up to a specified limit using a for loop.\n",
    "\n",
    "fib = [0,1]\n",
    "num = int(input('Enter a positive integer greater than 1: '))\n",
    "\n",
    "for i in range (1,num-1):\n",
    "    add = fib[i-1] + fib[i]\n",
    "    fib.append(add)\n",
    "    \n",
    "print(fib)"
   ]
  },
  {
   "cell_type": "code",
   "execution_count": 29,
   "id": "678d8f36-72a0-421d-bbbe-0d47abf22eaf",
   "metadata": {},
   "outputs": [
    {
     "name": "stdin",
     "output_type": "stream",
     "text": [
      "Enter a string:  ujwal shreenag meda\n"
     ]
    },
    {
     "name": "stdout",
     "output_type": "stream",
     "text": [
      "7\n"
     ]
    }
   ],
   "source": [
    "#11.\tWrite a Python program to count the number of vowels in a given string using a for loop.\n",
    "\n",
    "count = 0\n",
    "strng = input('Enter a string: ')\n",
    "vowels = 'aeiouAEIOU'\n",
    "\n",
    "for i in strng:\n",
    "    if i in vowels:\n",
    "        count = count + 1\n",
    "\n",
    "print(count)"
   ]
  },
  {
   "cell_type": "code",
   "execution_count": 34,
   "id": "e0c6c5f9-8631-457c-b32c-dc5515418aba",
   "metadata": {},
   "outputs": [
    {
     "name": "stdin",
     "output_type": "stream",
     "text": [
      "Enter a positive integer:  19\n"
     ]
    },
    {
     "name": "stdout",
     "output_type": "stream",
     "text": [
      "19 x 0 = 0\n",
      "19 x 1 = 19\n",
      "19 x 2 = 38\n",
      "19 x 3 = 57\n",
      "19 x 4 = 76\n",
      "19 x 5 = 95\n",
      "19 x 6 = 114\n",
      "19 x 7 = 133\n",
      "19 x 8 = 152\n",
      "19 x 9 = 171\n",
      "19 x 10 = 190\n"
     ]
    }
   ],
   "source": [
    "#12. Create a Python program that generates a multiplication table for a given number using a for loop.\n",
    "num = int(input('Enter a positive integer: '))\n",
    "for i in range (11):\n",
    "    print( num, 'x', i, '=', num*i)"
   ]
  },
  {
   "cell_type": "code",
   "execution_count": 35,
   "id": "b6bd2abc-2b7f-462d-85c7-3f14446a7451",
   "metadata": {},
   "outputs": [
    {
     "name": "stdout",
     "output_type": "stream",
     "text": [
      "[5, 2, 3, 78, 5, 1, 3]\n"
     ]
    }
   ],
   "source": [
    "#13.\tWrite a Python program to reverse a list using a for loop.\n",
    "\n",
    "lst = [3,1,5,78,3,2,5]\n",
    "rev_lst = []\n",
    "for i in range (1,len(lst)+1):\n",
    "    rev_lst.append(lst[-i])\n",
    "print(rev_lst)"
   ]
  },
  {
   "cell_type": "code",
   "execution_count": 38,
   "id": "b702bf9f-0ef7-446b-bcf3-e969d670df10",
   "metadata": {},
   "outputs": [
    {
     "name": "stdout",
     "output_type": "stream",
     "text": [
      "{1, 2, 3, 4, 5}\n"
     ]
    }
   ],
   "source": [
    "#14.\tWrite a Python program to find the common elements between two lists using a for loop.\n",
    "\n",
    "list1 = [2,3,4,1,5,1,65,8]\n",
    "list2 = [1,4,2,3,5,1,6,7]\n",
    "\n",
    "common_elements = set()\n",
    "\n",
    "for i in list1:\n",
    "    if i in list2:\n",
    "        common_elements.add(i)\n",
    "\n",
    "print(common_elements)"
   ]
  },
  {
   "cell_type": "code",
   "execution_count": 47,
   "id": "b790200b-edd6-4dad-9e3c-d4fd0d426bfe",
   "metadata": {},
   "outputs": [
    {
     "name": "stdout",
     "output_type": "stream",
     "text": [
      "name\n",
      "age\n",
      "gender\n",
      "ujwal\n",
      "39\n",
      "male\n"
     ]
    }
   ],
   "source": [
    "#15.\tExplain how to use a for loop to iterate through the keys and values of a dictionary in Python.\n",
    "\n",
    "dict = {'name': 'ujwal', 'age': 39, 'gender': 'male'}\n",
    "\n",
    "for key in dict.keys():\n",
    "    print(key)\n",
    "    \n",
    "for value in dict.values():\n",
    "    print(value)"
   ]
  },
  {
   "cell_type": "code",
   "execution_count": 54,
   "id": "a7a02d41-bb1d-45b4-8e2a-66177d8e5ffe",
   "metadata": {},
   "outputs": [
    {
     "name": "stdout",
     "output_type": "stream",
     "text": [
      "4\n"
     ]
    }
   ],
   "source": [
    "#16.\tWrite a Python program to find the GCD (Greatest Common Divisor) of two numbers using a for loop.\n",
    "\n",
    "a = 16\n",
    "b = 20\n",
    "\n",
    "if a % b == 0:\n",
    "    gcd = b\n",
    "    \n",
    "for k in range(int(b / 2), 0, -1):\n",
    "    if a % k == 0 and b % k == 0:\n",
    "        gcd = k\n",
    "        break  \n",
    "\n",
    "print (gcd)"
   ]
  },
  {
   "cell_type": "code",
   "execution_count": 58,
   "id": "1debd5e0-9c0e-4d3d-99c3-ea90ea81fc93",
   "metadata": {},
   "outputs": [
    {
     "name": "stdin",
     "output_type": "stream",
     "text": [
      "Enter a string:  ujwal\n"
     ]
    },
    {
     "name": "stdout",
     "output_type": "stream",
     "text": [
      "The string is not a palindrome!\n"
     ]
    }
   ],
   "source": [
    "#17.\tCreate a Python program that checks if a string is a palindrome using a for loop.\n",
    "\n",
    "strng = input('Enter a string: ')\n",
    "\n",
    "lst = []\n",
    "for i in strng:\n",
    "    lst.append(i)\n",
    "rev_lst = lst[::-1]\n",
    "\n",
    "if lst == rev_lst:\n",
    "    print('The string is a palindrome!')\n",
    "\n",
    "else:\n",
    "    print('The string is not a palindrome!')"
   ]
  },
  {
   "cell_type": "code",
   "execution_count": 63,
   "id": "d8082583-11c7-4381-963c-24fc1aa78337",
   "metadata": {},
   "outputs": [
    {
     "name": "stdout",
     "output_type": "stream",
     "text": [
      "[1, 2, 3, 4, 5]\n"
     ]
    }
   ],
   "source": [
    "#18.\tWrite a Python program to remove duplicates from a list using a for loop.\n",
    "\n",
    "lst = [1,2,3,1,2,4,5]\n",
    "result = []\n",
    "for i in lst:\n",
    "    if i not in result:\n",
    "        result.append(i)\n",
    "\n",
    "print(result)"
   ]
  },
  {
   "cell_type": "code",
   "execution_count": 69,
   "id": "238f56c0-6435-4076-9fd0-1051740f42b7",
   "metadata": {},
   "outputs": [
    {
     "name": "stdin",
     "output_type": "stream",
     "text": [
      "Enter a sentence:  This is a simple sentence with ten words in it\n"
     ]
    },
    {
     "name": "stdout",
     "output_type": "stream",
     "text": [
      "10\n"
     ]
    }
   ],
   "source": [
    "#19.\tCreate a Python program that counts the number of words in a sentence using a for loop.\n",
    "\n",
    "sent = input('Enter a sentence: ')\n",
    "count = 1\n",
    "\n",
    "for i in sent:\n",
    "    if i == ' ':\n",
    "        count += 1\n",
    "\n",
    "print(count)"
   ]
  },
  {
   "cell_type": "code",
   "execution_count": 75,
   "id": "41aa99b7-2fad-4d59-bfdb-cf107249bd21",
   "metadata": {},
   "outputs": [
    {
     "name": "stdout",
     "output_type": "stream",
     "text": [
      "625\n"
     ]
    }
   ],
   "source": [
    "#20.\tWrite a Python program to find the sum of all odd numbers from 1 to 50 using a for loop.\n",
    "\n",
    "tot = 0\n",
    "for i in range (1,50+1):\n",
    "    if i%2 != 0:\n",
    "        tot = tot + i\n",
    "\n",
    "print(tot)"
   ]
  },
  {
   "cell_type": "code",
   "execution_count": 78,
   "id": "8bb82b69-b435-451d-9a6c-879041642386",
   "metadata": {},
   "outputs": [
    {
     "name": "stdin",
     "output_type": "stream",
     "text": [
      "Enter a year:  1984\n"
     ]
    },
    {
     "name": "stdout",
     "output_type": "stream",
     "text": [
      "Its a leap year!\n"
     ]
    }
   ],
   "source": [
    "#21.\tWrite a Python program that checks if a given year is a leap year using a for loop.\n",
    "\n",
    "year = int(input('Enter a year: '))\n",
    "\n",
    "for i in range(1, year+1):\n",
    "        if i == year:\n",
    "            if (i % 4 == 0 and i % 100 != 0) or (i % 400 == 0):\n",
    "                print('Its a leap year!')\n",
    "                \n",
    "            else:\n",
    "                print('Its not a leap year!')\n",
    "           "
   ]
  },
  {
   "cell_type": "code",
   "execution_count": 83,
   "id": "0e5b08c2-95ab-4a9a-a386-bac150f0dc77",
   "metadata": {},
   "outputs": [
    {
     "name": "stdin",
     "output_type": "stream",
     "text": [
      "Enter a positive number:  4\n"
     ]
    },
    {
     "name": "stdout",
     "output_type": "stream",
     "text": [
      "2.0\n"
     ]
    }
   ],
   "source": [
    "#22.\tCreate a Python program that calculates the square root of a number using a for loop.\n",
    "\n",
    "num = float(input('Enter a positive number: '))\n",
    "\n",
    "guess = num / 2.0\n",
    "for _ in range(10000):\n",
    "    better_guess = (guess + num / guess) / 2.0\n",
    "    guess = better_guess\n",
    "print(guess)"
   ]
  },
  {
   "cell_type": "code",
   "execution_count": 94,
   "id": "5f802f9a-ab2e-4b4f-9eaf-4f831825d527",
   "metadata": {},
   "outputs": [
    {
     "name": "stdout",
     "output_type": "stream",
     "text": [
      "6\n"
     ]
    }
   ],
   "source": [
    "#23.\tWrite a Python program to find the LCM (Least Common Multiple) of two numbers using a for loop.\n",
    "\n",
    "a = 2\n",
    "b = 3\n",
    "\n",
    "if a > b:\n",
    "    greater = a\n",
    "else:\n",
    "    greater = b\n",
    "\n",
    "for i in range(greater, a*b + 1, greater):\n",
    "    if i % a == 0 and i % b == 0:\n",
    "        lcm = i\n",
    "print(lcm)"
   ]
  },
  {
   "cell_type": "markdown",
   "id": "bc50c776-0376-406a-ba21-0cde65cba58b",
   "metadata": {
    "jp-MarkdownHeadingCollapsed": true,
    "tags": []
   },
   "source": [
    "# IF ELSE problems"
   ]
  },
  {
   "cell_type": "code",
   "execution_count": 4,
   "id": "d01989f4-ec07-4d84-b211-c627d4c76d69",
   "metadata": {},
   "outputs": [
    {
     "name": "stdin",
     "output_type": "stream",
     "text": [
      "Enter a number:  -3\n"
     ]
    },
    {
     "name": "stdout",
     "output_type": "stream",
     "text": [
      "The number is negative\n"
     ]
    }
   ],
   "source": [
    "#1.\tWrite a Python program to check if a number is positive, negative, or zero using an if-else statement.\n",
    "\n",
    "number = int(input('Enter a number: '))\n",
    "\n",
    "if number < 0:\n",
    "    print ('The number is negative')\n",
    "    \n",
    "elif number == 0:\n",
    "    print('The number is zero')\n",
    "    \n",
    "else:\n",
    "    print('The number is positive')\n"
   ]
  },
  {
   "cell_type": "code",
   "execution_count": 5,
   "id": "657589ae-64af-4290-83d0-2ed893a27754",
   "metadata": {},
   "outputs": [
    {
     "name": "stdin",
     "output_type": "stream",
     "text": [
      "Enter a number:  3\n"
     ]
    },
    {
     "name": "stdout",
     "output_type": "stream",
     "text": [
      "The number is odd\n"
     ]
    }
   ],
   "source": [
    "#2.\tCreate a Python program that checks if a given number is even or odd using an if-else statement.\n",
    "\n",
    "number = int(input('Enter a number: '))\n",
    "\n",
    "if number % 2 == 0:\n",
    "    print ('The number is even')\n",
    "    \n",
    "else:\n",
    "    print('The number is odd')\n"
   ]
  },
  {
   "cell_type": "markdown",
   "id": "0771d043-b888-4c93-b885-b775b0ecb993",
   "metadata": {},
   "source": [
    "#3.\tHow can you use nested if-else statements in Python, and provide an example?\n",
    "\n",
    "In Python, you can use nested if-else statements to check for multiple conditions and execute different code blocks based on these conditions. Here's an example:\n",
    "\n",
    "age = 20\n",
    "\n",
    "if age < 13:\n",
    "    print(\"Child\")\n",
    "else:\n",
    "    if age < 18:\n",
    "        print(\"Teenager\")\n",
    "    else:\n",
    "        if age < 60:\n",
    "            print(\"Adult\")\n",
    "        else:\n",
    "            print(\"Senior\")\n",
    "            \n",
    "In this example, we first check if num is greater than or equal to 0. If it is, we then check if num is exactly 0. If num is 0, we print “Zero”. If num is not 0 (which means it’s a positive number), we print “Positive number”.\n",
    "\n",
    "If num is not greater than or equal to 0 (which means it’s a negative number), we skip the inner if-else statement and directly print “Negative number”."
   ]
  },
  {
   "cell_type": "code",
   "execution_count": 6,
   "id": "babdef93-3981-4968-b66f-6e81dea85d0f",
   "metadata": {},
   "outputs": [
    {
     "name": "stdout",
     "output_type": "stream",
     "text": [
      "z is the greatest\n"
     ]
    }
   ],
   "source": [
    "#4.\tWrite a Python program to determine the largest of three numbers using if-else.\n",
    "\n",
    "x = 10\n",
    "y = 12\n",
    "z = 15\n",
    "\n",
    "if x > y:\n",
    "    if x > z:\n",
    "        print(\"x is the greatest\")\n",
    "    else:\n",
    "        print(\"z is the greatest\")\n",
    "else:\n",
    "    if y > z:\n",
    "        print(\"y is the greatest\")\n",
    "    else:\n",
    "        print(\"z is the greatest\")"
   ]
  },
  {
   "cell_type": "code",
   "execution_count": 7,
   "id": "a6b3b9b9-314f-432b-a68a-d7c46202f951",
   "metadata": {},
   "outputs": [
    {
     "name": "stdout",
     "output_type": "stream",
     "text": [
      "The absolute value is 10\n"
     ]
    }
   ],
   "source": [
    "#5.\tWrite a Python program that calculates the absolute value of a number using if-else.\n",
    "\n",
    "num = -10\n",
    "\n",
    "if num < 0:\n",
    "    abs_val = -num\n",
    "else:\n",
    "    abs_val = num\n",
    "\n",
    "print(\"The absolute value is\", abs_val)"
   ]
  },
  {
   "cell_type": "code",
   "execution_count": 8,
   "id": "92a7c85f-3706-416e-a026-5d0f01f699a6",
   "metadata": {},
   "outputs": [
    {
     "name": "stdin",
     "output_type": "stream",
     "text": [
      "Enter a character:  w\n"
     ]
    },
    {
     "name": "stdout",
     "output_type": "stream",
     "text": [
      "The character is a consonent\n"
     ]
    }
   ],
   "source": [
    "#6.\tCreate a Python program that checks if a given character is a vowel or consonant using if-else.\n",
    "\n",
    "char = input('Enter a character: ')\n",
    "vowels = 'aeiouAEIOU'\n",
    "\n",
    "if char in vowels:\n",
    "    print('The character is an vowel!')\n",
    "\n",
    "else:\n",
    "    print('The character is a consonent')"
   ]
  },
  {
   "cell_type": "code",
   "execution_count": 9,
   "id": "8a78b65d-d470-43a9-85bc-2308b11869a6",
   "metadata": {},
   "outputs": [
    {
     "name": "stdin",
     "output_type": "stream",
     "text": [
      "Enter the age:  18\n"
     ]
    },
    {
     "name": "stdout",
     "output_type": "stream",
     "text": [
      "Eligible to vote\n"
     ]
    }
   ],
   "source": [
    "#7.\tWrite a Python program to determine if a user is eligible to vote based on their age using if-else.\n",
    "\n",
    "age = int(input('Enter the age: '))\n",
    "\n",
    "if age < 18:\n",
    "    print('Not eligible to vote')\n",
    "    \n",
    "else:\n",
    "    print('Eligible to vote')"
   ]
  },
  {
   "cell_type": "code",
   "execution_count": 14,
   "id": "daba7e3a-6454-4ada-9fbd-a0d365dc42d5",
   "metadata": {},
   "outputs": [
    {
     "name": "stdin",
     "output_type": "stream",
     "text": [
      "Enter the purchase amount:  9800\n"
     ]
    },
    {
     "name": "stdout",
     "output_type": "stream",
     "text": [
      "The discount is 5%: 4900.0\n"
     ]
    }
   ],
   "source": [
    "#8.\tCreate a Python program that calculates the discount amount based on the purchase amount using if-else.\n",
    "\n",
    "amount = int(input('Enter the purchase amount: '))\n",
    "\n",
    "if amount >= 10000:\n",
    "    discount = 0.1 * amount\n",
    "    print('The discount is 10%:', discount)\n",
    "    \n",
    "elif amount > 5000 and amount < 10000:\n",
    "    discount = 0.5 * amount\n",
    "    print('The discount is 5%:', discount)\n",
    "    \n",
    "else:\n",
    "    print('No discount!')"
   ]
  },
  {
   "cell_type": "code",
   "execution_count": 17,
   "id": "162c7989-4e23-46c7-9d73-34f5206a854e",
   "metadata": {},
   "outputs": [
    {
     "name": "stdin",
     "output_type": "stream",
     "text": [
      "Enter the marks:  102\n"
     ]
    },
    {
     "name": "stdout",
     "output_type": "stream",
     "text": [
      "Marks out of range!\n"
     ]
    }
   ],
   "source": [
    "#9.\tWrite a Python program to check if a number is within a specified range using if-else.\n",
    "\n",
    "marks = int(input('Enter the marks: '))\n",
    "\n",
    "if marks < 40:\n",
    "    print('The marks are not enough to pass')\n",
    "    \n",
    "if marks >= 40 and marks < 100:\n",
    "    print('Pass')\n",
    "    \n",
    "else:\n",
    "    print('Marks out of range!')"
   ]
  },
  {
   "cell_type": "code",
   "execution_count": 20,
   "id": "582f2b9b-7274-4eee-b888-c799c2b0ee61",
   "metadata": {},
   "outputs": [
    {
     "name": "stdin",
     "output_type": "stream",
     "text": [
      "Enter the marks:  60\n"
     ]
    },
    {
     "name": "stdout",
     "output_type": "stream",
     "text": [
      "A Grade: First Class\n"
     ]
    }
   ],
   "source": [
    "#10.\tCreate a Python program that determines the grade of a student based on their score using if-else.\n",
    "\n",
    "marks = int(input('Enter the marks: '))\n",
    "\n",
    "if marks < 40:\n",
    "    print('F Grade: Fail')\n",
    "    \n",
    "elif marks < 60:\n",
    "    print('B Grade: Second Class')\n",
    "    \n",
    "elif marks < 90:\n",
    "    print('A Grade: First Class')\n",
    "    \n",
    "elif marks < 100:\n",
    "    print('S Grade: Distinction')\n",
    "\n",
    "else:\n",
    "    print('Marks out of range!')"
   ]
  },
  {
   "cell_type": "code",
   "execution_count": 23,
   "id": "e39f9d88-ede4-49c8-88c5-b37df2508dcf",
   "metadata": {},
   "outputs": [
    {
     "name": "stdout",
     "output_type": "stream",
     "text": [
      "The string is empty.\n"
     ]
    }
   ],
   "source": [
    "#11.\tWrite a Python program to check if a string is empty or not using if-else.\n",
    "\n",
    "str = \"\"  # you can change this value\n",
    "\n",
    "if str:\n",
    "    print(\"The string is not empty.\")\n",
    "else:\n",
    "    print(\"The string is empty.\")"
   ]
  },
  {
   "cell_type": "code",
   "execution_count": 41,
   "id": "8b50ea2b-96bc-4541-9930-53afac5c6d99",
   "metadata": {},
   "outputs": [
    {
     "name": "stdin",
     "output_type": "stream",
     "text": [
      "Enter the three sides of a triangle:  1 2 3\n"
     ]
    },
    {
     "name": "stdout",
     "output_type": "stream",
     "text": [
      "Can't form a trianlge\n"
     ]
    }
   ],
   "source": [
    "#12.\tCreate a Python program that identifies the type of a triangle (e.g., equilateral, isosceles, or scalene) based on input values using if-else.\n",
    "a,b,c = input('Enter the three sides of a triangle: ').split()\n",
    "\n",
    "if a + b > c and b + c > a and c + a > b:\n",
    "\n",
    "    if a == b == c:\n",
    "        print('Its an equilateral triangle')\n",
    "\n",
    "    elif a == b or b == c or c == a:\n",
    "        print('Its an isosceles triangle')\n",
    "\n",
    "    else:\n",
    "        print('Its a scelene triangle')\n",
    "    \n",
    "else:\n",
    "    print(\"Can't form a trianlge\")"
   ]
  },
  {
   "cell_type": "code",
   "execution_count": 43,
   "id": "44e6dd8b-437f-4d4c-9e94-565bda65aa5e",
   "metadata": {},
   "outputs": [
    {
     "name": "stdin",
     "output_type": "stream",
     "text": [
      "Enter a number between 1 and 7: 8\n"
     ]
    },
    {
     "name": "stdout",
     "output_type": "stream",
     "text": [
      "numbr is no between 1 and 7\n"
     ]
    }
   ],
   "source": [
    "# 13.\tWrite a Python program to determine the day of the week based on a user-provided number using if-else.\n",
    "\n",
    "num = int(input('Enter a number between 1 and 7:'))\n",
    "\n",
    "if 1 <= num <= 7:\n",
    "    if num == 1:\n",
    "        print('Sunday')\n",
    "\n",
    "    elif num == 2:\n",
    "        print('Monday')\n",
    "\n",
    "    elif num == 3:\n",
    "        print('Tuesday')\n",
    "\n",
    "    elif num == 4:\n",
    "        print('Wednesday')\n",
    "\n",
    "    elif num == 5:\n",
    "        print('Thursday')\n",
    "\n",
    "    elif num == 6:\n",
    "        print('Friday')\n",
    "\n",
    "    else: \n",
    "        print('Saturday')\n",
    "        \n",
    "else:\n",
    "    print('number is not between 1 and 7')"
   ]
  },
  {
   "cell_type": "code",
   "execution_count": 44,
   "id": "61950c4f-0bb1-4c75-bb1a-9e07846069b4",
   "metadata": {},
   "outputs": [],
   "source": [
    "#14.\tCreate a Python program that checks if a given year is a leap year using both if-else and a function.\n",
    "\n",
    "def leap(year):\n",
    "    \n",
    "    if (year%4 == 0 and year%100 != 0) or (year%400 == 0):\n",
    "        print('Leap Year')\n",
    "    else:\n",
    "        print('Not a leap year')        \n",
    "    \n",
    "    return year"
   ]
  },
  {
   "cell_type": "code",
   "execution_count": 46,
   "id": "406bc125-62c2-4cc1-b682-19d10b42d224",
   "metadata": {},
   "outputs": [
    {
     "name": "stdout",
     "output_type": "stream",
     "text": [
      "Not a leap year\n"
     ]
    },
    {
     "data": {
      "text/plain": [
       "2023"
      ]
     },
     "execution_count": 46,
     "metadata": {},
     "output_type": "execute_result"
    }
   ],
   "source": [
    "leap(2023)"
   ]
  },
  {
   "cell_type": "markdown",
   "id": "238f7941-d5c3-4098-b496-65e571adf81f",
   "metadata": {},
   "source": [
    "#15.\tHow do you use the \"assert\" statement in Python to add debugging checks within if-else blocks?\n",
    "\n",
    "The `assert` statement in Python is used for debugging purposes to test if a certain condition is met. If the condition is met, the program continues to execute. However, if the condition is not met, the program stops and throws an AssertionError exception.\n",
    "\n",
    "Here's an example of how you can use the `assert` statement within if-else blocks:\n",
    "\n",
    "```python\n",
    "x = 10\n",
    "\n",
    "if x > 0:\n",
    "    assert x > 5, \"x should be greater than 5\"\n",
    "    print(\"x is a positive number greater than 5\")\n",
    "else:\n",
    "    assert x == 0, \"x should be zero\"\n",
    "    print(\"x is not a positive number\")\n",
    "```\n",
    "\n",
    "In this example, if `x` is greater than 0, we assert that `x` should also be greater than 5. If `x` is not greater than 5, the program will stop and throw an AssertionError with the message \"x should be greater than 5\". If `x` is not greater than 0 (i.e., it's either zero or negative), we assert that `x` should be zero. If `x` is not zero, the program will stop and throw an AssertionError with the message \"x should be zero\".\n",
    "\n",
    "The `assert` statement helps you catch bugs or incorrect assumptions made in your code. It's a good practice to use assertions in your code to catch unexpected conditions that are not supposed to occur but do occur due to some bugs in your code."
   ]
  },
  {
   "cell_type": "code",
   "execution_count": 72,
   "id": "8888c0cd-5619-4d54-a587-618c65f7fcb1",
   "metadata": {},
   "outputs": [
    {
     "name": "stdin",
     "output_type": "stream",
     "text": [
      "Enter the age of a person:  120\n"
     ]
    },
    {
     "name": "stdout",
     "output_type": "stream",
     "text": [
      "Age should be between 1 and 100\n"
     ]
    }
   ],
   "source": [
    "#16.\tCreate a Python program that determines the eligibility of a person for a senior citizen discount based on age using if-else.\n",
    "\n",
    "age = int(input('Enter the age of a person: '))\n",
    "\n",
    "if age>59 and age <= 100:\n",
    "    print('Senior Citizen. Eligible for discout!')\n",
    "elif age < 1 or age > 100:\n",
    "    print('Age should be between 1 and 100')\n",
    "    \n",
    "else:\n",
    "    print('Not a senior citizen')"
   ]
  },
  {
   "cell_type": "code",
   "execution_count": 75,
   "id": "35614f2a-6e20-4b53-bd3c-f1150814394a",
   "metadata": {},
   "outputs": [
    {
     "name": "stdin",
     "output_type": "stream",
     "text": [
      "Enter a character:  !\n"
     ]
    },
    {
     "name": "stdout",
     "output_type": "stream",
     "text": [
      "'!' is neither an uppercase nor a lowercase letter.\n"
     ]
    }
   ],
   "source": [
    "#17.\tWrite a Python program to categorize a given character as uppercase, lowercase, or neither using if-else.\n",
    "\n",
    "char = input('Enter a character: ')\n",
    "\n",
    "if char.isupper():\n",
    "    print(f\"'{char}' is an uppercase letter.\")\n",
    "elif char.islower():\n",
    "    print(f\"'{char}' is a lowercase letter.\")\n",
    "else:\n",
    "    print(f\"'{char}' is neither an uppercase nor a lowercase letter.\")\n"
   ]
  },
  {
   "cell_type": "code",
   "execution_count": 78,
   "id": "8636bef2-7dbe-41f8-8715-515f9653245f",
   "metadata": {},
   "outputs": [
    {
     "name": "stdin",
     "output_type": "stream",
     "text": [
      "Enter the coefficients of the quadratic equation:  1 -3 2\n"
     ]
    },
    {
     "name": "stdout",
     "output_type": "stream",
     "text": [
      "The roots of the equation are 2.0 and 1.0\n"
     ]
    }
   ],
   "source": [
    "#18.\tWrite a Python program to determine the roots of a quadratic equation using if-else.\n",
    "\n",
    "a,b,c = input('Enter the coefficients of the quadratic equation: ').split()\n",
    "\n",
    "a = int(a)\n",
    "b = int(b)\n",
    "c = int (c)\n",
    "\n",
    "root1 = (-b + (b*b - 4*a*c)**(1/2))/(2*a)\n",
    "root2 = (-b - (b*b - 4*a*c)**(1/2))/(2*a)\n",
    "\n",
    "print('The roots of the equation are {0} and {1}'.format(root1,root2))"
   ]
  },
  {
   "cell_type": "code",
   "execution_count": 80,
   "id": "e52fec61-b36c-45c1-bcc5-8ecc84339ada",
   "metadata": {},
   "outputs": [
    {
     "name": "stdin",
     "output_type": "stream",
     "text": [
      "Enter the year:  2000\n"
     ]
    },
    {
     "name": "stdout",
     "output_type": "stream",
     "text": [
      "Its a century year\n"
     ]
    }
   ],
   "source": [
    "#19.\tCreate a Python program that checks if a given year is a century year or not using if-else.\n",
    "\n",
    "year = int(input('Enter the year: '))\n",
    "\n",
    "if year%100 == 0:\n",
    "    print('Its a century year')\n",
    "    \n",
    "else:\n",
    "    print('Its not a century year')"
   ]
  },
  {
   "cell_type": "code",
   "execution_count": 88,
   "id": "c5297600-389a-40bb-9c59-8daad699d181",
   "metadata": {},
   "outputs": [
    {
     "name": "stdin",
     "output_type": "stream",
     "text": [
      "Enter the number:  2\n"
     ]
    },
    {
     "name": "stdout",
     "output_type": "stream",
     "text": [
      "Its not a perfect square\n"
     ]
    }
   ],
   "source": [
    "#20.\tWrite a Python program to determine if a given number is a perfect square using if-else.\n",
    "\n",
    "num = int(input('Enter the number: '))\n",
    "\n",
    "if (num**(1/2))%1 == 0:\n",
    "    print('Its a perfect square')\n",
    "    \n",
    "else:\n",
    "    print('Its not a perfect square')"
   ]
  },
  {
   "cell_type": "markdown",
   "id": "03e09195-9e21-4945-a72d-245b49405bfb",
   "metadata": {},
   "source": [
    "#21.\tExplain the purpose of the \"continue\" and \"break\" statements within if-else loops.\n",
    "\n",
    "In programming, `continue` and `break` are control flow statements that are used within loops (`for`, `while`, etc.) and conditional statements (`if-else`). Here's what they do:\n",
    "\n",
    "- **Continue**: The `continue` statement skips the current iteration of the loop and proceeds to the next iteration. It's often used when some condition is met, but you want the loop to keep running for its remaining iterations. Here's an example:\n",
    "\n",
    "```python\n",
    "for i in range(10):\n",
    "    if i == 5:\n",
    "        continue\n",
    "    print(i)\n",
    "```\n",
    "In this code, the number 5 is not printed because when `i` equals 5, the `continue` statement is executed, skipping the print statement and moving on to the next iteration of the loop.\n",
    "\n",
    "- **Break**: The `break` statement, on the other hand, completely terminates the loop. It's often used when some condition is met and you want to exit the loop prematurely. Here's an example:\n",
    "\n",
    "```python\n",
    "for i in range(10):\n",
    "    if i == 5:\n",
    "        break\n",
    "    print(i)\n",
    "```\n",
    "In this code, only the numbers 0 through 4 are printed. When `i` equals 5, the `break` statement is executed, terminating the loop immediately.\n",
    "\n",
    "Remember that these statements only affect the innermost loop they're part of. If you have nested loops and use a `break` or `continue` statement in the inner loop, it won't affect the outer loops."
   ]
  },
  {
   "cell_type": "code",
   "execution_count": 96,
   "id": "92b0f8ad-ea5b-4981-8f53-3dda9768abca",
   "metadata": {},
   "outputs": [
    {
     "name": "stdin",
     "output_type": "stream",
     "text": [
      "Enter the height in meters and weight in kilograms:  1.88 110\n"
     ]
    },
    {
     "name": "stdout",
     "output_type": "stream",
     "text": [
      "obese\n"
     ]
    }
   ],
   "source": [
    "#22.\tCreate a Python program that calculates the BMI (Body Mass Index) of a person based on their weight and height using if-else.\n",
    "\n",
    "height, weight = input('Enter the height in meters and weight in kilograms: ').split()\n",
    "\n",
    "height = float(height)\n",
    "weight = float(weight)\n",
    "\n",
    "bmi = weight / height**2\n",
    "\n",
    "if bmi < 18.5:\n",
    "    print('Under weight!')\n",
    "    \n",
    "elif 18.5 <= bmi <= 24.9:\n",
    "    print('normal weight')\n",
    "    \n",
    "elif 25 <= bmi <= 29.9:\n",
    "    print('overweight')\n",
    "    \n",
    "else:\n",
    "    print('obese')"
   ]
  },
  {
   "cell_type": "code",
   "execution_count": 97,
   "id": "3696a318-0ea6-4854-bc48-b3d755fe5417",
   "metadata": {},
   "outputs": [
    {
     "name": "stdout",
     "output_type": "stream",
     "text": [
      "[2, 4, 6, 8]\n"
     ]
    }
   ],
   "source": [
    "#23.\tHow can you use the \"filter()\" function with if-else statements to filter elements from a list?\n",
    "\n",
    "# List of numbers\n",
    "numbers = [1, 2, 3, 4, 5, 6, 7, 8, 9]\n",
    "\n",
    "# Function that returns True if a number is even\n",
    "def is_even(n):\n",
    "    if n % 2 == 0:\n",
    "        return True\n",
    "    else:\n",
    "        return False\n",
    "\n",
    "# Use the filter() function with the is_even() function to filter out odd numbers\n",
    "even_numbers = filter(is_even, numbers)\n",
    "\n",
    "# Convert the result back to a list and print it\n",
    "print(list(even_numbers))  # Output: [2, 4, 6, 8]"
   ]
  },
  {
   "cell_type": "code",
   "execution_count": 113,
   "id": "7b81be24-99d6-42f5-ac6a-10945784cc8d",
   "metadata": {},
   "outputs": [
    {
     "name": "stdin",
     "output_type": "stream",
     "text": [
      "Enter a positive number:  2\n"
     ]
    },
    {
     "name": "stdout",
     "output_type": "stream",
     "text": [
      "Its a prime number\n"
     ]
    }
   ],
   "source": [
    "#24.\tWrite a Python program to determine if a given number is prime or not using if-else.\n",
    "\n",
    "num = int(input('Enter a positive number: '))\n",
    "\n",
    "if num < 2:\n",
    "    print('number should be greater than 1')\n",
    "    \n",
    "else:\n",
    "    for i in range(2, int(num/2)+1):\n",
    "        if num%i == 0:\n",
    "            print('The number is not a prime')\n",
    "            break\n",
    "    else:\n",
    "        print('Its a prime number')"
   ]
  },
  {
   "cell_type": "code",
   "execution_count": null,
   "id": "142d1e2a-b5ef-49f3-bbe5-66035181e5d6",
   "metadata": {},
   "outputs": [],
   "source": []
  },
  {
   "cell_type": "markdown",
   "id": "22ce67a4-a565-45fa-b340-0b5858316274",
   "metadata": {
    "jp-MarkdownHeadingCollapsed": true,
    "tags": []
   },
   "source": [
    "# map problems"
   ]
  },
  {
   "cell_type": "markdown",
   "id": "cf9ab013-165e-49ba-8162-aa6a59a852a6",
   "metadata": {},
   "source": [
    "#1. Explain the purpose of the `map()` function in Python \n",
    "and provide an example of how it can be used to apply a function \n",
    "to each element of an iterable."
   ]
  },
  {
   "cell_type": "markdown",
   "id": "c67ecc8a-0c2b-4a79-93ac-90dfa72ecfba",
   "metadata": {},
   "source": [
    "Answer: A map() function returns an iterator after applying the given function on every element of an iterable (list, tuple etc.)"
   ]
  },
  {
   "cell_type": "code",
   "execution_count": 2,
   "id": "6e441a93-edb2-4e56-805d-d84d8fb6b70a",
   "metadata": {},
   "outputs": [
    {
     "name": "stdout",
     "output_type": "stream",
     "text": [
      "[1, 4, 9, 16, 25]\n"
     ]
    }
   ],
   "source": [
    "#2.\tWrite a Python program that uses the `map()` function to square each element of a list of numbers.\n",
    "\n",
    "l1 = [1,2,3,4,5]\n",
    "l2 = list(map(lambda a: a**2, l1))\n",
    "print(l2)"
   ]
  },
  {
   "cell_type": "markdown",
   "id": "89ce0a45-b0b3-472d-a509-918153e02e40",
   "metadata": {},
   "source": [
    "#3.\tHow does the `map()` function differ from a list comprehension in Python, \n",
    "and when would you choose one over the other?"
   ]
  },
  {
   "cell_type": "markdown",
   "id": "1e3fb14e-36dd-484c-912c-d08113d960bb",
   "metadata": {},
   "source": [
    "Answer: List comprehension returns a list, whereas the map function returns an object of Iterable. List comprehension execution is faster than that of map function when the formula expression is huge and complex. Map function is faster than list comprehension when the formula is already defined as a function earlier."
   ]
  },
  {
   "cell_type": "code",
   "execution_count": 4,
   "id": "9dc20c9b-883c-4bec-a4a1-adac921e35fd",
   "metadata": {},
   "outputs": [
    {
     "name": "stdout",
     "output_type": "stream",
     "text": [
      "['UJWAL', 'SHREENAG', 'MEDA']\n"
     ]
    }
   ],
   "source": [
    "#4.\tCreate a Python program that uses the `map()` function to convert a list of names to uppercase.\n",
    "\n",
    "l3 = ['ujwal', 'shreenag', 'meda']\n",
    "l4 = list(map(lambda a: a.upper(), l3))\n",
    "print(l4)"
   ]
  },
  {
   "cell_type": "code",
   "execution_count": 5,
   "id": "8d7604ad-6fd7-4584-be87-c384e8bd07f8",
   "metadata": {},
   "outputs": [
    {
     "name": "stdout",
     "output_type": "stream",
     "text": [
      "[5, 8, 4]\n"
     ]
    }
   ],
   "source": [
    "'''\n",
    "#5.\tWrite a Python program that uses the `map()` function \n",
    "to calculate the length of each word in a list of strings\n",
    "'''\n",
    "\n",
    "l5 = list(map(lambda a: len(a), l3))\n",
    "print(l5)"
   ]
  },
  {
   "cell_type": "code",
   "execution_count": 6,
   "id": "ede77062-ae8c-4e38-bfa9-350397650732",
   "metadata": {},
   "outputs": [
    {
     "name": "stdout",
     "output_type": "stream",
     "text": [
      "[[1, 4, 9, 16, 25], [36, 49, 64, 81, 100], [121, 144, 169, 196, 225]]\n"
     ]
    }
   ],
   "source": [
    "'''\n",
    "#6.\tHow can you use the `map()` function to apply \n",
    "a custom function to elements of multiple lists simultaneously in Python?\n",
    "'''\n",
    "\n",
    "l6 = [[1,2,3,4,5], [6,7,8,9,10], [11,12,13,14,15]]\n",
    "l7 = []\n",
    "for i in l6:\n",
    "    l7.append(list(map(lambda a: a**2, i)))\n",
    "print (l7)"
   ]
  },
  {
   "cell_type": "code",
   "execution_count": 7,
   "id": "5f714b3d-92a1-488d-9b1b-72e5f3629b9f",
   "metadata": {},
   "outputs": [
    {
     "name": "stdout",
     "output_type": "stream",
     "text": [
      "[50.0, 68.0, 86.0, 104.0, 122.0]\n"
     ]
    }
   ],
   "source": [
    "#7.\tCreate a Python program that uses `map()` to convert a list of temperatures from Celsius to Fahrenheit.\n",
    "\n",
    "l8 = [10, 20, 30, 40, 50]\n",
    "l9 = list(map(lambda a: a*1.8 + 32, l8))\n",
    "print(l9)"
   ]
  },
  {
   "cell_type": "code",
   "execution_count": 8,
   "id": "a1b93a6e-059a-443f-859e-4fa2e2088a4f",
   "metadata": {},
   "outputs": [
    {
     "name": "stdout",
     "output_type": "stream",
     "text": [
      "[23, 34, 42, 11, 99]\n"
     ]
    }
   ],
   "source": [
    "'''\n",
    "#8.\tWrite a Python program that uses the `map()` function to round each element \n",
    "of a list of floating-point numbers to the nearest integer.\n",
    "'''\n",
    "\n",
    "l10 = [22.67, 33.82, 41.79, 11.23, 98.65]\n",
    "l11 = list(map(lambda a: round(a), l10))\n",
    "print(l11)"
   ]
  },
  {
   "cell_type": "markdown",
   "id": "03582a9f-fff5-4caf-8d63-f818e3690498",
   "metadata": {
    "jp-MarkdownHeadingCollapsed": true,
    "tags": []
   },
   "source": [
    "# Reduce problems"
   ]
  },
  {
   "cell_type": "markdown",
   "id": "5a7bb57a-7575-4bd4-b8e6-00cb9d62c28e",
   "metadata": {},
   "source": [
    "#1.\tWhat is the `reduce()` function in Python, \n",
    "and what module should you import to use it? \n",
    "Provide an example of its basic usage."
   ]
  },
  {
   "cell_type": "markdown",
   "id": "7cae38ac-2001-4ecd-a2b5-a32737b7e6c7",
   "metadata": {},
   "source": [
    "Answer: The reduce(fun,seq) function is used to apply a particular function on all the elements of the sequence passed along.\n",
    "“functools” module should be imported before using it."
   ]
  },
  {
   "cell_type": "code",
   "execution_count": 15,
   "id": "58740c47-b243-4974-93ea-c012abb62bd9",
   "metadata": {},
   "outputs": [
    {
     "name": "stdout",
     "output_type": "stream",
     "text": [
      "35767116\n"
     ]
    }
   ],
   "source": [
    "#2.\tWrite a Python program that uses the `reduce()` function to find the product of all elements in a list.\n",
    "\n",
    "import functools\n",
    "a = functools.reduce(lambda a,b: a*b, l11)\n",
    "print(a)"
   ]
  },
  {
   "cell_type": "code",
   "execution_count": 12,
   "id": "f9450637-d44a-4cd6-ac16-db0c808c03b9",
   "metadata": {},
   "outputs": [
    {
     "name": "stdout",
     "output_type": "stream",
     "text": [
      "99\n"
     ]
    }
   ],
   "source": [
    "#3.\tCreate a Python program that uses `reduce()` to find the maximum element in a list of numbers.\n",
    "\n",
    "b = functools.reduce(lambda m,n: m if m>n else n, l11)\n",
    "print (b)"
   ]
  },
  {
   "cell_type": "code",
   "execution_count": 17,
   "id": "d66b3375-1d13-4fca-af27-1513f87de904",
   "metadata": {},
   "outputs": [
    {
     "name": "stdout",
     "output_type": "stream",
     "text": [
      "Ujwal Shreenag Meda \n"
     ]
    }
   ],
   "source": [
    "#4.\tHow can you use the `reduce()` function to concatenate a list of strings into a single string?\n",
    "\n",
    "l12 = ['Ujwal ', 'Shreenag ', 'Meda ']\n",
    "c = functools.reduce(lambda o,p: o + p, l12)\n",
    "print(c)"
   ]
  },
  {
   "cell_type": "code",
   "execution_count": 24,
   "id": "95627b51-f40f-437a-a47a-3e67fc36a934",
   "metadata": {},
   "outputs": [
    {
     "name": "stdin",
     "output_type": "stream",
     "text": [
      "Enter a number: 4\n"
     ]
    },
    {
     "name": "stdout",
     "output_type": "stream",
     "text": [
      "24\n"
     ]
    }
   ],
   "source": [
    "#5.\tWrite a Python program that calculates the factorial of a number using the `reduce()` function.\n",
    "from functools import reduce\n",
    "n = int(input('Enter a number:'))\n",
    "d = reduce(lambda a,b: a*b, range(1,n+1))\n",
    "print(d)"
   ]
  },
  {
   "cell_type": "code",
   "execution_count": 48,
   "id": "cecf3437-d458-4d74-b532-aefa84a43634",
   "metadata": {},
   "outputs": [
    {
     "name": "stdout",
     "output_type": "stream",
     "text": [
      "12\n"
     ]
    }
   ],
   "source": [
    "#6.\tCreate a Python program that uses `reduce()` to find the GCD (Greatest Common Divisor) of a list of numbers.\n",
    "\n",
    "l14 = [24, 36, 48]\n",
    "\n",
    "def gcd(a,b):\n",
    "    if a == 0:\n",
    "        return b\n",
    "    if b == 0:\n",
    "        return a\n",
    "    if a == b:\n",
    "        return a\n",
    "    if a>b:\n",
    "        return gcd(a-b,b)\n",
    "    return gcd(a,b-a)\n",
    "    \n",
    "e = reduce(gcd, l14)\n",
    "print (e)"
   ]
  },
  {
   "cell_type": "code",
   "execution_count": 79,
   "id": "307578de-d842-40b7-b110-40007aad0266",
   "metadata": {},
   "outputs": [
    {
     "name": "stdin",
     "output_type": "stream",
     "text": [
      "Enter a number: 12475\n"
     ]
    },
    {
     "name": "stdout",
     "output_type": "stream",
     "text": [
      "19\n"
     ]
    }
   ],
   "source": [
    "#7.\tWrite a Python program that uses the `reduce()` function to find the sum of the digits of a given number.\n",
    "n = input('Enter a number:')\n",
    "\n",
    "f = reduce(lambda a,b: a+b, [int(i) for i in str(n)])\n",
    "print(f)"
   ]
  },
  {
   "cell_type": "markdown",
   "id": "0c0ca112-f242-4fd2-94d6-2ba771748d42",
   "metadata": {
    "jp-MarkdownHeadingCollapsed": true,
    "tags": []
   },
   "source": [
    "# Filter problems"
   ]
  },
  {
   "cell_type": "markdown",
   "id": "66e0fabf-3463-49a0-8c12-f1a570c2bb06",
   "metadata": {},
   "source": [
    "#1. Explain the purpose of the `filter()` function in Python \n",
    "and provide an example of how it can be used to filter elements from an iterable."
   ]
  },
  {
   "cell_type": "markdown",
   "id": "a13d9795-da99-4f4c-b354-17041f409da3",
   "metadata": {},
   "source": [
    "A function that tests if each element of a sequence is true or not. A sequence which needs to be filtered can be sets, lists, or tuples."
   ]
  },
  {
   "cell_type": "code",
   "execution_count": 2,
   "id": "9561e6db-fa06-4400-96e4-2ee38c548777",
   "metadata": {},
   "outputs": [
    {
     "name": "stdout",
     "output_type": "stream",
     "text": [
      "[2, 4, 6, 8]\n"
     ]
    }
   ],
   "source": [
    "'''\n",
    "#2.\tWrite a Python program that uses the `filter()` function \n",
    "to select even numbers from a list of integers.\n",
    "'''\n",
    "\n",
    "l15 = [1,2,3,4,5,6,7,8,9]\n",
    "f = list(filter(lambda a: a%2 == 0, l15))\n",
    "print (f)"
   ]
  },
  {
   "cell_type": "code",
   "execution_count": 5,
   "id": "b5756728-1205-4817-a4d5-68cc8f92cb5d",
   "metadata": {},
   "outputs": [
    {
     "name": "stdout",
     "output_type": "stream",
     "text": [
      "['pwskills', 'powerbi', 'process']\n"
     ]
    }
   ],
   "source": [
    "'''\n",
    "#3.\tCreate a Python program that uses the `filter()` function \n",
    "to select names that start with a specific letter from a list of strings.\n",
    "'''\n",
    "\n",
    "l16 = ['test', 'ujwal', 'shreenag', 'meda', 'pwskills', 'powerbi', 'process']\n",
    "g = list(filter(lambda a: a[0] == 'p', l16))\n",
    "print(g)"
   ]
  },
  {
   "cell_type": "code",
   "execution_count": 44,
   "id": "afcfb148-e766-47b1-89db-721242b32ab8",
   "metadata": {},
   "outputs": [
    {
     "name": "stdout",
     "output_type": "stream",
     "text": [
      "[2, 3, 5, 7, 11, 13]\n"
     ]
    }
   ],
   "source": [
    "'''\n",
    "#4.\tWrite a Python program that uses the `filter()` function \n",
    "to select prime numbers from a list of integers.\n",
    "'''\n",
    "\n",
    "l17 = [2,3,4,5,6,7,8,9,10,11,12,13,14,15]\n",
    "\n",
    "def prime(n):\n",
    "    for i in range (2,int(n/2)+1):\n",
    "        if n%i == 0:\n",
    "            break\n",
    "    else:\n",
    "        return n\n",
    "    \n",
    "h = list(filter(prime, l17))\n",
    "print(h)"
   ]
  },
  {
   "cell_type": "code",
   "execution_count": 51,
   "id": "75ef1f10-79c9-495f-8103-978b2336c8e8",
   "metadata": {},
   "outputs": [
    {
     "name": "stdout",
     "output_type": "stream",
     "text": [
      "[1, 2, 3, 4, 5]\n"
     ]
    }
   ],
   "source": [
    "#5.\tHow can you use the `filter()` function to remove None values from a list in Python?\n",
    "\n",
    "l18 = [1, None, 2, None, 3, None, 4, None, 5]\n",
    "\n",
    "i = list(filter(lambda a: a is not None, l18))\n",
    "print(i)\n",
    "         "
   ]
  },
  {
   "cell_type": "code",
   "execution_count": 53,
   "id": "227d2f8e-e95b-4cd2-949b-fa0002fd2906",
   "metadata": {},
   "outputs": [
    {
     "name": "stdout",
     "output_type": "stream",
     "text": [
      "['Python', 'Assistant']\n"
     ]
    }
   ],
   "source": [
    "'''\n",
    "#6.\tCreate a Python program that uses `filter()` \n",
    "to select words longer than a certain length from a list of strings.\n",
    "'''\n",
    "\n",
    "l19 = [\"Hello\", \"World\", \"Python\", \"Bing\", \"Assistant\"]\n",
    "\n",
    "j = list(filter(lambda a: len(a) > 5, l19))\n",
    "print(j)"
   ]
  },
  {
   "cell_type": "code",
   "execution_count": 1,
   "id": "04b48150-22e5-4185-8671-4e031ee66f7d",
   "metadata": {},
   "outputs": [
    {
     "name": "stdout",
     "output_type": "stream",
     "text": [
      "[33, 27, 46, 30]\n"
     ]
    }
   ],
   "source": [
    "'''\n",
    "#7.\tWrite a Python program that uses the `filter()` function \n",
    "to select elements greater than a specified threshold from a list of values.\n",
    "'''\n",
    "l20 = [12, 7, 20, 33, 27, 8, 46, 19, 30]\n",
    "k = list(filter(lambda a: a>20, l20))\n",
    "print(k)"
   ]
  },
  {
   "cell_type": "code",
   "execution_count": null,
   "id": "aea77919-3495-4b2a-96fb-a25ae81ff9ca",
   "metadata": {},
   "outputs": [],
   "source": []
  },
  {
   "cell_type": "markdown",
   "id": "a2cae93f-0378-4599-9730-b39a58edf52a",
   "metadata": {
    "jp-MarkdownHeadingCollapsed": true,
    "tags": []
   },
   "source": [
    "# Recursion Problems"
   ]
  },
  {
   "cell_type": "markdown",
   "id": "019a0d99-7b41-4bf2-9add-05d4652540e0",
   "metadata": {},
   "source": [
    "#1.\tExplain the concept of recursion in Python. How does it differ from iteration?\n",
    "\n",
    "In Python, **recursion** and **iteration** are two different ways to achieve repetition in code, but they work in fundamentally different ways¹²³⁴⁵.\n",
    "\n",
    "**Recursion** is when a function calls itself in order to solve a problem by breaking it down into smaller subproblems¹²³. This can lead to very elegant and concise code, but it can also lead to higher time complexity due to the overhead of repeated function calls¹. If the base case is not correctly specified, infinite recursive calls may occur, which could potentially lead to a system crash¹.\n",
    "\n",
    "Here's an example of a recursive function that calculates the factorial of a number:\n",
    "\n",
    "```python\n",
    "def factorialUsingRecursion(n):\n",
    "    if n == 0:\n",
    "        return 1\n",
    "    return n * factorialUsingRecursion(n - 1)\n",
    "```\n",
    "\n",
    "On the other hand, **iteration** involves using loops (like `for` or `while` loops) to repeatedly execute a block of code¹²³. Iteration is generally faster and more space-efficient than recursion⁴⁵, and it does not have the overhead of repeated function calls¹. However, it can result in longer code.\n",
    "\n",
    "Here's an example of an iterative function that calculates the factorial of a number:\n",
    "\n",
    "```python\n",
    "def factorialUsingIteration(n):\n",
    "    res = 1\n",
    "    for i in range(2, n + 1):\n",
    "        res *= i\n",
    "    return res\n",
    "```\n",
    "\n",
    "In practice, almost all iterations can be performed by recursions and vice-versa⁵. The choice between recursion and iteration often depends on the specific problem at hand and the trade-off between time complexity and code size¹."
   ]
  },
  {
   "cell_type": "code",
   "execution_count": 56,
   "id": "892abb87-9515-4035-88f4-ae2ccb974d08",
   "metadata": {},
   "outputs": [
    {
     "data": {
      "text/plain": [
       "120"
      ]
     },
     "execution_count": 56,
     "metadata": {},
     "output_type": "execute_result"
    }
   ],
   "source": [
    "#2.\tWrite a Python program to calculate the factorial of a number using recursion.\n",
    "\n",
    "def fact (n):\n",
    "    if n == 0:\n",
    "        return 1\n",
    "    return n*fact(n-1)\n",
    "\n",
    "fact(5)"
   ]
  },
  {
   "cell_type": "code",
   "execution_count": 62,
   "id": "7ec5ef84-e211-4b3a-b97e-06125baf5730",
   "metadata": {},
   "outputs": [
    {
     "data": {
      "text/plain": [
       "55"
      ]
     },
     "execution_count": 62,
     "metadata": {},
     "output_type": "execute_result"
    }
   ],
   "source": [
    "#3.\tCreate a recursive Python function to find the nth Fibonacci number.\n",
    "\n",
    "def fib(n):\n",
    "    if n <= 0:\n",
    "        return \"Input should be a positive integer.\"\n",
    "    elif n == 1:\n",
    "        return 0\n",
    "    elif n == 2:\n",
    "        return 1\n",
    "    else:\n",
    "        return fib(n-1) + fib(n-2)\n",
    "\n",
    "fib(11)"
   ]
  },
  {
   "cell_type": "code",
   "execution_count": 72,
   "id": "75b78cde-ddc1-4728-a122-cdc224e1e2b3",
   "metadata": {},
   "outputs": [
    {
     "data": {
      "text/plain": [
       "36"
      ]
     },
     "execution_count": 72,
     "metadata": {},
     "output_type": "execute_result"
    }
   ],
   "source": [
    "#4.\tWrite a recursive Python function to calculate the sum of all elements in a list.\n",
    "l21 = [1,2,3,4,5,6,7,8]\n",
    "\n",
    "def total(lst):\n",
    "    if len(lst) == 0:\n",
    "        return 0\n",
    "    return lst[0]+total(lst[1:])\n",
    "\n",
    "total(l21)"
   ]
  },
  {
   "cell_type": "markdown",
   "id": "17af6069-d516-4644-9543-02e3045d1e40",
   "metadata": {},
   "source": [
    "#5.\tHow can you prevent a recursive function from running indefinitely, \n",
    "causing a stack overflow error?\n",
    "\n",
    "To prevent a recursive function from running indefinitely and causing a stack overflow error, you need to ensure the following:\n",
    "\n",
    "Base Case: Every recursive function should have a base case that stops the recursion. The base case is a condition that, when met, returns a value without making any subsequent recursive calls. It’s crucial to define the base case correctly to avoid infinite recursion.\n",
    "\n",
    "Progress Towards Base Case: Each recursive call should progress towards the base case. This usually involves changing the arguments in each recursive call so that they eventually match the base case.\n",
    "\n",
    "Proper Return Statements: Ensure that return statements are used correctly to pass the result back up the recursion stack. If return statements are not used correctly, the function may not give the expected result, leading to an infinite loop."
   ]
  },
  {
   "cell_type": "code",
   "execution_count": 74,
   "id": "6c0cfc7b-d014-450f-90a9-540a573591f8",
   "metadata": {},
   "outputs": [
    {
     "data": {
      "text/plain": [
       "12"
      ]
     },
     "execution_count": 74,
     "metadata": {},
     "output_type": "execute_result"
    }
   ],
   "source": [
    "'''\n",
    "#6.\tCreate a recursive Python function to find the greatest common divisor (GCD)\n",
    "of two numbers using the Euclidean algorithm.\n",
    "'''\n",
    "\n",
    "def gcd(a,b):\n",
    "    if a == 0:\n",
    "        return b\n",
    "    elif b == 0:\n",
    "        return a\n",
    "    elif a>b:\n",
    "        return gcd(a-b,b)\n",
    "    else:\n",
    "        return gcd(a,b-a)\n",
    "\n",
    "gcd(24,36)"
   ]
  },
  {
   "cell_type": "code",
   "execution_count": 77,
   "id": "16015066-a41f-4eb3-b98a-795156d6d515",
   "metadata": {},
   "outputs": [
    {
     "data": {
      "text/plain": [
       "'lawju'"
      ]
     },
     "execution_count": 77,
     "metadata": {},
     "output_type": "execute_result"
    }
   ],
   "source": [
    "#7.\tWrite a recursive Python function to reverse a string.\n",
    "\n",
    "def rev(str):\n",
    "    if len(str) == 1:\n",
    "        return str[0]\n",
    "    return str[-1]+rev(str[:-1])\n",
    "rev('ujwal')"
   ]
  },
  {
   "cell_type": "code",
   "execution_count": 81,
   "id": "437f5a56-6e5e-49fd-9138-5877bed9dee6",
   "metadata": {},
   "outputs": [
    {
     "data": {
      "text/plain": [
       "64"
      ]
     },
     "execution_count": 81,
     "metadata": {},
     "output_type": "execute_result"
    }
   ],
   "source": [
    "#8.\tCreate a recursive Python function to calculate the power of a number (x^n).\n",
    "\n",
    "def power(x,n):\n",
    "    if n == 1:\n",
    "        return x\n",
    "    return x*power(x,n-1)\n",
    "power(4,3)"
   ]
  },
  {
   "cell_type": "code",
   "execution_count": 92,
   "id": "94327a8c-1ab4-4285-a75e-6959e088eb28",
   "metadata": {},
   "outputs": [
    {
     "name": "stdout",
     "output_type": "stream",
     "text": [
      "['ujwal', 'juwal', 'jwual', 'jwaul', 'jwalu', 'uwjal', 'wujal', 'wjual', 'wjaul', 'wjalu', 'uwajl', 'wuajl', 'waujl', 'wajul', 'wajlu', 'uwalj', 'wualj', 'waulj', 'waluj', 'walju', 'ujawl', 'juawl', 'jauwl', 'jawul', 'jawlu', 'uajwl', 'aujwl', 'ajuwl', 'ajwul', 'ajwlu', 'uawjl', 'auwjl', 'awujl', 'awjul', 'awjlu', 'uawlj', 'auwlj', 'awulj', 'awluj', 'awlju', 'ujalw', 'jualw', 'jaulw', 'jaluw', 'jalwu', 'uajlw', 'aujlw', 'ajulw', 'ajluw', 'ajlwu', 'ualjw', 'auljw', 'alujw', 'aljuw', 'aljwu', 'ualwj', 'aulwj', 'aluwj', 'alwuj', 'alwju', 'ujwla', 'juwla', 'jwula', 'jwlua', 'jwlau', 'uwjla', 'wujla', 'wjula', 'wjlua', 'wjlau', 'uwlja', 'wulja', 'wluja', 'wljua', 'wljau', 'uwlaj', 'wulaj', 'wluaj', 'wlauj', 'wlaju', 'ujlwa', 'julwa', 'jluwa', 'jlwua', 'jlwau', 'uljwa', 'lujwa', 'ljuwa', 'ljwua', 'ljwau', 'ulwja', 'luwja', 'lwuja', 'lwjua', 'lwjau', 'ulwaj', 'luwaj', 'lwuaj', 'lwauj', 'lwaju', 'ujlaw', 'julaw', 'jluaw', 'jlauw', 'jlawu', 'uljaw', 'lujaw', 'ljuaw', 'ljauw', 'ljawu', 'ulajw', 'luajw', 'laujw', 'lajuw', 'lajwu', 'ulawj', 'luawj', 'lauwj', 'lawuj', 'lawju']\n"
     ]
    }
   ],
   "source": [
    "#9.\tWrite a recursive Python function to find all permutations of a given string.\n",
    "\n",
    "def string_permutations(s):\n",
    "    if len(s) == 1:\n",
    "        return [s]\n",
    "    perms = string_permutations(s[1:])\n",
    "    char = s[0]\n",
    "    result = []\n",
    "    for perm in perms:\n",
    "        for i in range(len(perm) + 1):\n",
    "            result.append(perm[:i] + char + perm[i:])\n",
    "    return result\n",
    "\n",
    "print(string_permutations('ujwal'))"
   ]
  },
  {
   "cell_type": "code",
   "execution_count": 97,
   "id": "7dfb5518-8428-496d-940d-4890b22e7ce1",
   "metadata": {},
   "outputs": [
    {
     "name": "stdin",
     "output_type": "stream",
     "text": [
      "Enter a string: sasas\n"
     ]
    },
    {
     "name": "stdout",
     "output_type": "stream",
     "text": [
      "The string is a palindrome\n"
     ]
    }
   ],
   "source": [
    "#10.Write a recursive Python function to check if a string is a palindrome.\n",
    "\n",
    "stri = input('Enter a string:')\n",
    "\n",
    "def rev(st):\n",
    "    if len(st) == 1:\n",
    "        return st[0]\n",
    "    return st[-1]+rev(st[:-1])\n",
    "\n",
    "rev_str = rev(stri)\n",
    "if stri == rev_str:\n",
    "    print('The string is a palindrome')\n",
    "else:\n",
    "    print('The string is not a palindrome')"
   ]
  },
  {
   "cell_type": "code",
   "execution_count": 100,
   "id": "99104be9-7b7a-49a6-bd12-cdb4af83da0c",
   "metadata": {},
   "outputs": [
    {
     "name": "stdout",
     "output_type": "stream",
     "text": [
      "[[], [1], [2], [1, 2], [3], [1, 3], [2, 3], [1, 2, 3]]\n"
     ]
    }
   ],
   "source": [
    "'''\n",
    "#11.\tCreate a recursive Python function \n",
    "to generate all possible combinations of a list of elements.\n",
    "'''\n",
    "\n",
    "def combinations(lst):\n",
    "    if len(lst) == 0:\n",
    "        return [[]]\n",
    "\n",
    "    res = []\n",
    "    for comb in combinations(lst[1:]):\n",
    "        res += [comb, [lst[0]] + comb]\n",
    "        \n",
    "    return res\n",
    "\n",
    "print(combinations([1, 2, 3]))"
   ]
  },
  {
   "cell_type": "markdown",
   "id": "237f45e3-4ecd-406d-8810-dbac586a35d9",
   "metadata": {
    "tags": []
   },
   "source": [
    "# Basics of Functions"
   ]
  },
  {
   "cell_type": "markdown",
   "id": "69ea9f12-a88f-4c38-8659-26f9d4d9d89f",
   "metadata": {},
   "source": [
    "#1.\tWhat is a function in Python, and why is it used?\n",
    "\n",
    "A function in Python is a block of code that performs a certain task or a group of related tasks. It can have a name, parameters and a return statement. Functions are used to reuse code, improve modularity and simplify logic.\n"
   ]
  },
  {
   "cell_type": "markdown",
   "id": "9a15985d-5469-425d-9d12-8c360f7e964a",
   "metadata": {},
   "source": [
    "#2.\tHow do you define a function in Python? Provide an example."
   ]
  },
  {
   "cell_type": "markdown",
   "id": "553d7d70-f6ad-4981-a9fa-095f3d6c550b",
   "metadata": {},
   "source": [
    "A function is a block of code that runs when it is called. You can define a function in Python using the def keyword, followed by the function name and parentheses. For example:\n",
    "\n",
    "def greet(name):\n",
    "  print(\"Hello, \" + name)"
   ]
  },
  {
   "cell_type": "markdown",
   "id": "817d41b7-2fe0-4b4e-be8d-ed5914cf8f2c",
   "metadata": {},
   "source": [
    "#3.\tExplain the difference between a function definition and a function call."
   ]
  },
  {
   "cell_type": "markdown",
   "id": "5fa4c54c-139e-47dc-98a0-c59da778bc0b",
   "metadata": {},
   "source": [
    "A function definition is a piece of code that names the function and specifies what to do when the function is called123. A function call is invoking or calling that function with some arguments, which causes it to execute and return a result. A function definition does not execute the function, it only declares it1. A function call transfers the control to the function and executes the statements inside it."
   ]
  },
  {
   "cell_type": "code",
   "execution_count": 1,
   "id": "6f659518-ecfc-4cce-a8f4-4edb493e8f74",
   "metadata": {},
   "outputs": [
    {
     "data": {
      "text/plain": [
       "6"
      ]
     },
     "execution_count": 1,
     "metadata": {},
     "output_type": "execute_result"
    }
   ],
   "source": [
    "#4.\tWrite a Python program that defines a function to calculate the sum of two numbers and then calls the function.\n",
    "\n",
    "def sum2no(a,b):\n",
    "    sum = a + b\n",
    "    return sum\n",
    "\n",
    "sum2no(2,4)"
   ]
  },
  {
   "cell_type": "markdown",
   "id": "b7fe3b80-d219-483c-9382-fb17c4d3a066",
   "metadata": {},
   "source": [
    "#5.\tWhat is a function signature, and what information does it typically include?\n",
    "\n",
    "A function signature in Python is the interface that describes what arguments are accepted by the function and what kind of value is returned by the function. It can be obtained with the help of the inspect.signature() function. A function signature typically includes the names, types, and default values of the parameters, as well as the return annotation."
   ]
  },
  {
   "cell_type": "code",
   "execution_count": 2,
   "id": "2023d932-ea8f-4502-997b-bc855b7f251b",
   "metadata": {},
   "outputs": [
    {
     "data": {
      "text/plain": [
       "12"
      ]
     },
     "execution_count": 2,
     "metadata": {},
     "output_type": "execute_result"
    }
   ],
   "source": [
    "#6.\tCreate a Python function that takes two arguments and returns their product.\n",
    "\n",
    "def pdt2no(a,b):\n",
    "    product = a*b\n",
    "    return product\n",
    "\n",
    "pdt2no(3,4)"
   ]
  },
  {
   "cell_type": "markdown",
   "id": "870a2509-fcda-4407-9907-55b52e2c349d",
   "metadata": {},
   "source": [
    "#7. Explain the concepts of formal parameters and actual arguments in Python functions.\n",
    "\n",
    "In Python functions, formal parameters are the parameters specified during the definition of the function. They are useful to receive values from outside of the function. Actual arguments are the values passed to the function when it is called. They are the genuine values that are passed on to the called function. The actual parameters can be passed either by the programmer or by the user in real-time."
   ]
  },
  {
   "cell_type": "code",
   "execution_count": 3,
   "id": "95912ceb-eefa-4e54-9195-5ca779859112",
   "metadata": {},
   "outputs": [
    {
     "data": {
      "text/plain": [
       "2.0"
      ]
     },
     "execution_count": 3,
     "metadata": {},
     "output_type": "execute_result"
    }
   ],
   "source": [
    "#8.\tWrite a Python program that defines a function with default argument values.\n",
    "\n",
    "def div(a = 4, b = 2):\n",
    "    ans = a/b\n",
    "    return ans\n",
    "\n",
    "div()"
   ]
  },
  {
   "cell_type": "markdown",
   "id": "ae65306b-63b9-4208-b395-c42ade45430b",
   "metadata": {},
   "source": [
    "#3.\tHow do you use keyword arguments in Python function calls? Provide an example."
   ]
  },
  {
   "cell_type": "markdown",
   "id": "2cca458c-5596-4d28-8d68-705747b7a0be",
   "metadata": {},
   "source": [
    "In Python, keyword arguments are used in function calls, where the caller identifies the arguments by the parameter name. This allows you to skip arguments or place them out of order because the Python interpreter can use the provided keywords to match the values with parameters. \n",
    "\n",
    "Here's an example:\n",
    "\n",
    "```python\n",
    "def greet(name, greeting=\"Hello\"):\n",
    "    print(f\"{greeting}, {name}!\")\n",
    "\n",
    "# Using keyword arguments\n",
    "greet(name=\"Alice\", greeting=\"Good morning\")\n",
    "greet(greeting=\"Good evening\", name=\"Bob\")\n",
    "```\n",
    "\n",
    "In this example, `name` and `greeting` are keyword arguments. You can see that we can change their order in the function call, and Python will still be able to match the values with the correct parameters. This is because we're explicitly stating which argument each value should correspond to. \n",
    "\n",
    "Also, note that `greeting` has a default value of \"Hello\". This means that if you don't provide a value for `greeting` when calling the function, it will use \"Hello\" as the default.\n",
    "\n",
    "```python\n",
    "# Using default argument value\n",
    "greet(name=\"Charlie\")\n",
    "```\n",
    "\n",
    "This will output: \"Hello, Charlie!\" because we didn't provide a `greeting`, so it used the default value."
   ]
  },
  {
   "cell_type": "code",
   "execution_count": 3,
   "id": "7253ffbc-7b27-4455-a795-76483cbc61b2",
   "metadata": {},
   "outputs": [
    {
     "data": {
      "text/plain": [
       "14"
      ]
     },
     "execution_count": 3,
     "metadata": {},
     "output_type": "execute_result"
    }
   ],
   "source": [
    "#4.\tCreate a Python function that accepts a variable number of arguments and calculates their sum.\n",
    "\n",
    "def sumofno(*no):\n",
    "    total = sum(no)\n",
    "    return total\n",
    "\n",
    "sumofno(2,3,4,5)"
   ]
  },
  {
   "cell_type": "markdown",
   "id": "6c8ad04d-021c-46b9-9263-40f90016f6b5",
   "metadata": {},
   "source": [
    "#5.\tWhat is the purpose of the `*args` and `**kwargs` syntax in function parameter lists?"
   ]
  },
  {
   "cell_type": "markdown",
   "id": "80e3f62f-5b62-4f40-967e-bdfb377db3bc",
   "metadata": {},
   "source": [
    "In Python, *args and **kwargs are special syntaxes in function parameters which allow for variable length arguments.\n",
    "\n",
    "*args: This allows the function to accept any number of positional arguments. These arguments are stored in a tuple.\n",
    "\n",
    "**kwargs: This allows the function to accept any number of keyword arguments. These arguments are stored in a dictionary. "
   ]
  },
  {
   "cell_type": "markdown",
   "id": "6d055e17-b9e3-4810-8fb2-360ab73922cb",
   "metadata": {
    "jp-MarkdownHeadingCollapsed": true,
    "tags": []
   },
   "source": [
    "# Return Values and Scoping"
   ]
  },
  {
   "cell_type": "markdown",
   "id": "83118cb1-1a7c-4d8d-96bc-90f57f051a63",
   "metadata": {},
   "source": [
    "#1.\tDescribe the role of the `return` statement in Python functions and provide examples."
   ]
  },
  {
   "cell_type": "markdown",
   "id": "28d9da6f-c005-4879-81d9-1191316b4a56",
   "metadata": {},
   "source": [
    "In Python, the return statement is used to end the execution of a function and return a value to the caller. If the return statement is without any expression, then the special value None is returned. If the return statement is not used in a function, then also the function will return None.\n",
    "\n",
    "def greet(name):\n",
    "    print(f\"Hello, {name}!\")\n",
    "\n",
    "greet(\"Alice\")  # Outputs: Hello, Alice!\n",
    "\n",
    "In this example, the function greet does not have a return statement. It prints a greeting but does not return any value. If you try to print its return value, it will print None."
   ]
  },
  {
   "cell_type": "markdown",
   "id": "70e03204-9845-4fce-9f23-01f936640e77",
   "metadata": {},
   "source": [
    "#2.\tExplain the concept of variable scope in Python, including local and global variables. \n",
    "3.\tWrite a Python program that demonstrates the use of global variables within functions. \n",
    "5.\tHow can you access variables defined outside a function from within the function?\n",
    "\n",
    "\n",
    "In Python, a variable's scope determines the visibility of that variable in the code. The two most common types of variable scope are **local** and **global**.\n",
    "\n",
    "**Local Variables:**\n",
    "A variable declared inside a function is known as a local variable. This variable is present in the local space, not in the global space, which means you can only access it within the function it's declared. Once the function finishes execution, the local variable is destroyed and can't be accessed outside its function.\n",
    "\n",
    "```python\n",
    "def my_function():\n",
    "    local_var = \"I'm local\"\n",
    "    print(local_var)\n",
    "\n",
    "my_function()  # prints: I'm local\n",
    "print(local_var)  # NameError: name 'local_var' is not defined\n",
    "```\n",
    "\n",
    "**Global Variables:**\n",
    "A global variable is one that is declared in the main body of the code, making it accessible throughout the entire code, including within functions. If you need to use the same variable in multiple functions, declaring it as a global variable can be useful.\n",
    "\n",
    "```python\n",
    "global_var = \"I'm global\"\n",
    "\n",
    "def my_function():\n",
    "    print(global_var)\n",
    "\n",
    "my_function()  # prints: I'm global\n",
    "print(global_var)  # prints: I'm global\n",
    "```\n",
    "\n",
    "It's important to note that if you try to assign a value to a global variable inside a function without using the `global` keyword, Python will treat it as a new local variable.\n",
    "\n",
    "```python\n",
    "global_var = \"I'm global\"\n",
    "\n",
    "def my_function():\n",
    "    global_var = \"Am I still global?\"\n",
    "    print(global_var)\n",
    "\n",
    "my_function()  # prints: Am I still global?\n",
    "print(global_var)  # prints: I'm global\n",
    "```\n",
    "\n",
    "To modify a global variable inside a function, you can use the `global` keyword:\n",
    "\n",
    "```python\n",
    "global_var = \"I'm global\"\n",
    "\n",
    "def my_function():\n",
    "    global global_var\n",
    "    global_var = \"Now I'm definitely global!\"\n",
    "    print(global_var)\n",
    "\n",
    "my_function()  # prints: Now I'm definitely global!\n",
    "print(global_var)  # prints: Now I'm definitely global!\n",
    "```\n",
    "\n",
    "Excessive use of global variables can make your code hard to understand and debug, so they should be used sparingly."
   ]
  },
  {
   "cell_type": "code",
   "execution_count": 6,
   "id": "cd640fb9-e56d-4ab3-9760-ac0654361fd0",
   "metadata": {},
   "outputs": [
    {
     "data": {
      "text/plain": [
       "120"
      ]
     },
     "execution_count": 6,
     "metadata": {},
     "output_type": "execute_result"
    }
   ],
   "source": [
    "#4.\tCreate a Python function that calculates the factorial of a number and returns it.\n",
    "\n",
    "def fact(n):\n",
    "    product = 1\n",
    "    for i in range (1, n+1):\n",
    "        product *= i\n",
    "    return product\n",
    "\n",
    "fact(5)    "
   ]
  },
  {
   "cell_type": "markdown",
   "id": "d41b0e1e-edc3-4fe5-9e0f-45738005e9fe",
   "metadata": {
    "jp-MarkdownHeadingCollapsed": true,
    "tags": []
   },
   "source": [
    "# Lambda Functions and Higher-Order Functions"
   ]
  },
  {
   "cell_type": "markdown",
   "id": "bbbfc1f8-543a-44d4-9d22-8407c4b4bfdb",
   "metadata": {},
   "source": [
    "#1.\tWhat are lambda functions in Python, and when are they typically used?\n",
    "\n",
    "Lambda functions in Python, also referred to as 'Anonymous functions', are a type of function that is defined without a name⁴. They are created with the `lambda` keyword⁵. The general syntax of a lambda function is: `lambda arguments: expression`¹. This function can have any number of arguments but only one expression, which is evaluated and returned².\n",
    "\n",
    "Lambda functions are typically used when an anonymous function is required for a short period of time¹. They are often used in conjunction with typical functional concepts like `filter()`, `map()`, and `reduce()`². They're also useful when you want to use them as an anonymous function inside another function¹. For example, if you have a function definition that takes one argument, and that argument will be multiplied with an unknown number."
   ]
  },
  {
   "cell_type": "code",
   "execution_count": 3,
   "id": "ae02aa8c-f58d-4e4e-be47-4a11913cac4e",
   "metadata": {},
   "outputs": [
    {
     "name": "stdout",
     "output_type": "stream",
     "text": [
      "[(1, 2, 3), (4, 5, 6), (7, 8, 9)]\n"
     ]
    }
   ],
   "source": [
    "#2.\tWrite a Python program that uses lambda functions to sort a list of tuples based on the second element.\n",
    "\n",
    "l = [(7,8,9), (1,2,3), (4,5,6)]\n",
    "\n",
    "sorted_list = sorted(l, key = lambda x: x[1])\n",
    "\n",
    "print(sorted_list)"
   ]
  },
  {
   "cell_type": "markdown",
   "id": "2d163345-1cde-4c57-bc1e-8929ebefb78a",
   "metadata": {},
   "source": [
    "#3.\tExplain the concept of higher-order functions in Python, and provide an example.\n",
    "\n",
    "Higher-order functions in Python are functions that can accept other functions as arguments and/or return functions as results. They are a key feature of functional programming and bring a lot of flexibility and power to Python.\n",
    "\n",
    "Here are the two main types of higher-order functions:\n",
    "\n",
    "1. **Functions as Arguments**: These are higher-order functions that take one or more functions as arguments. Built-in Python functions like `map()`, `filter()`, and `reduce()` are examples of this type.\n",
    "\n",
    "2. **Functions as Return Values**: These are higher-order functions that return a function. This can be used to create function factories, or functions that generate other functions with specific behaviors.\n",
    "\n",
    "Here's an example of a higher-order function that both takes a function as an argument and returns a function:\n",
    "\n",
    "```python\n",
    "def apply_twice(func, arg):\n",
    "    return func(func(arg))\n",
    "\n",
    "def add_five(x):\n",
    "    return x + 5\n",
    "\n",
    "result = apply_twice(add_five, 10)\n",
    "print(result)  # Output: 20\n",
    "```\n",
    "\n",
    "In this example, `apply_twice()` is a higher-order function that takes a function `func` and an argument `arg`, applies the function to the argument twice, and returns the result. The function `add_five()` is passed to `apply_twice()`, so the number 10 is incremented by 5 twice, resulting in 20."
   ]
  },
  {
   "cell_type": "code",
   "execution_count": 4,
   "id": "ba30ef96-b693-4708-8018-ff63c8b7af03",
   "metadata": {},
   "outputs": [
    {
     "name": "stdout",
     "output_type": "stream",
     "text": [
      "[2, 4, 6, 8, 10]\n"
     ]
    }
   ],
   "source": [
    "#4.\tCreate a Python function that takes a list of numbers and a function as arguments, applying the function to each element in the list.\n",
    "\n",
    "lst = [1,2,3,4,5]\n",
    "\n",
    "test = list(map(lambda a: a*2, lst))\n",
    "print(test)"
   ]
  },
  {
   "cell_type": "markdown",
   "id": "cf169008-ad0e-4edf-bd51-be48a5d14e6c",
   "metadata": {
    "jp-MarkdownHeadingCollapsed": true,
    "tags": []
   },
   "source": [
    "# Built-in Functions"
   ]
  },
  {
   "cell_type": "markdown",
   "id": "c4aba2a6-1cae-4200-a4f2-774c89665119",
   "metadata": {},
   "source": [
    "#1.\tDescribe the role of built-in functions like `len()`, `max()`, and `min()` in Python.\n",
    "\n",
    "len() is a built in function using which we can find out the length of an object such as a list or a string.\n",
    "\n",
    "max() is a built in function that returns the largest item in an iterable such as a list.\n",
    "\n",
    "min() is a built in function that returns the smallest item in an iterable such as a list."
   ]
  },
  {
   "cell_type": "code",
   "execution_count": 3,
   "id": "bb5f1cce-04b1-48ea-ae1b-19e8e313b9f5",
   "metadata": {},
   "outputs": [
    {
     "name": "stdout",
     "output_type": "stream",
     "text": [
      "[4, 1225, 1, 25, 36, 4, 81]\n"
     ]
    }
   ],
   "source": [
    "#2.\tWrite a Python program that uses the `map()` function to apply a function to each element of a list.\n",
    "\n",
    "lst = [2,35,1,5,6,2,9]\n",
    "\n",
    "new = list(map(lambda a: a**2, lst))\n",
    "print(new)"
   ]
  },
  {
   "cell_type": "markdown",
   "id": "40cf3b72-2d36-435b-816c-01cada673b1b",
   "metadata": {},
   "source": [
    "#3.\tHow does the `filter()` function work in Python, and when would you use it?\n",
    "\n",
    "The filter() function in Python is a built-in function that you can use to filter out elements from an iterable (like a list, tuple, etc.) based on a certain condition. This function takes in two arguments: a function and an iterable. The function should return a boolean value (True or False). The filter() function applies this function to every element of the iterable and returns a new iterable with only those elements for which the function returned True."
   ]
  },
  {
   "cell_type": "code",
   "execution_count": 5,
   "id": "5c53d711-b1fc-4cbc-8b37-f78f4e2571e6",
   "metadata": {},
   "outputs": [
    {
     "name": "stdout",
     "output_type": "stream",
     "text": [
      "24192\n"
     ]
    }
   ],
   "source": [
    "#4.\tCreate a Python program that uses the `reduce()` function to find the product of all elements in a list.\n",
    "\n",
    "from functools import reduce\n",
    "\n",
    "lst = [2,4,2,6,1,7,4,9]\n",
    "\n",
    "pdt = reduce(lambda a,b: a*b, lst)\n",
    "print(pdt)"
   ]
  },
  {
   "cell_type": "markdown",
   "id": "d5b557fc-1cdb-496b-bbcb-908ff648b87c",
   "metadata": {
    "jp-MarkdownHeadingCollapsed": true,
    "tags": []
   },
   "source": [
    "# Function Documentation and Best Practices"
   ]
  },
  {
   "cell_type": "markdown",
   "id": "2bff5340-c6f2-4ba5-bae6-02bde43bd1a1",
   "metadata": {},
   "source": [
    "#1.\tExplain the purpose of docstrings in Python functions and how to write them.\n",
    "\n",
    "Docstrings, or documentation strings, are valuable tools in Python for providing information about what a function does and how it should be used. They are placed immediately after the function definition and are enclosed in triple quotes (`\"\"\"` or `'''`). Here's an example:\n",
    "\n",
    "```python\n",
    "def add_numbers(a, b):\n",
    "    \"\"\"\n",
    "    This function adds two numbers and returns the result.\n",
    "\n",
    "    Parameters:\n",
    "    a (int): The first number to add.\n",
    "    b (int): The second number to add.\n",
    "\n",
    "    Returns:\n",
    "    int: The sum of a and b.\n",
    "    \"\"\"\n",
    "    return a + b\n",
    "```\n",
    "\n",
    "In this example, the docstring explains the purpose of the function, describes its parameters and their types, and specifies what the function returns."
   ]
  },
  {
   "cell_type": "markdown",
   "id": "b9e9d2a2-cc6f-4ccd-91a2-4c83d2969fce",
   "metadata": {},
   "source": [
    "#2.\tDescribe some best practices for naming functions and variables in Python, including naming conventions and guidelines.\n",
    "\n",
    "Some best practices for naming functions and variables in Python:\n",
    "\n",
    "1. **Use Descriptive Names**: Names should be descriptive and provide context. For example, `total_students` is more descriptive than `ts`.\n",
    "\n",
    "2. **Follow Naming Conventions**: Python has a few naming conventions. Here are some of them:\n",
    "    - **Variables**: Use a lowercase single letter, word, or words separated by underscores (snake_case). For example, `student_count`.\n",
    "    - **Functions**: Use a lowercase word or words separated by underscores (snake_case). For example, `calculate_average`.\n",
    "    - **Constants**: Use an uppercase single letter, word, or words separated by underscores. For example, `MAX_SIZE`.\n",
    "    - **Classes**: Use a single word starting with a capital letter (PascalCase). If the class name consists of multiple words, do not use underscores. For example, `StudentRecord`.\n",
    "\n",
    "3. **Avoid Using Single Character Variables**: Except for counters or iterators.\n",
    "\n",
    "4. **Avoid Using Reserved Words**: Python has a set of keywords that are reserved words that cannot be used as variable names such as `for`, `while`, etc.\n",
    "\n",
    "5. **Use English Words**: If the code is written in English, stick to English words.\n",
    "\n",
    "6. **Length of Names**: The length of a name should correspond to the size of its scope. For instance, function names can be longer than variable names since they have a larger scope.\n"
   ]
  },
  {
   "cell_type": "code",
   "execution_count": null,
   "id": "421e6c8d-09e2-411b-8920-cfdcb3eee81b",
   "metadata": {},
   "outputs": [],
   "source": []
  }
 ],
 "metadata": {
  "kernelspec": {
   "display_name": "Python 3 (ipykernel)",
   "language": "python",
   "name": "python3"
  },
  "language_info": {
   "codemirror_mode": {
    "name": "ipython",
    "version": 3
   },
   "file_extension": ".py",
   "mimetype": "text/x-python",
   "name": "python",
   "nbconvert_exporter": "python",
   "pygments_lexer": "ipython3",
   "version": "3.10.8"
  }
 },
 "nbformat": 4,
 "nbformat_minor": 5
}
