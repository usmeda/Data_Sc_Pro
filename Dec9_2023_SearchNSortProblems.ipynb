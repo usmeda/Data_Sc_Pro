{
  "nbformat": 4,
  "nbformat_minor": 0,
  "metadata": {
    "colab": {
      "provenance": [],
      "include_colab_link": true
    },
    "kernelspec": {
      "name": "python3",
      "display_name": "Python 3"
    },
    "language_info": {
      "name": "python"
    }
  },
  "cells": [
    {
      "cell_type": "markdown",
      "metadata": {
        "id": "view-in-github",
        "colab_type": "text"
      },
      "source": [
        "<a href=\"https://colab.research.google.com/github/usmeda/Data_Sc_Pro/blob/main/Dec9_2023_SearchNSortProblems.ipynb\" target=\"_parent\"><img src=\"https://colab.research.google.com/assets/colab-badge.svg\" alt=\"Open In Colab\"/></a>"
      ]
    },
    {
      "cell_type": "markdown",
      "source": [
        "**Problem 1 :**\n",
        "Find the Rotation Count in Rotated Sorted array\n",
        "Input: arr[] = {15, 18, 2, 3, 6, 12}\n",
        "Output: 2\n",
        "Explanation: Initial array must be {2, 3, 6, 12, 15, 18}.\n",
        "We get the given array after rotating the initial array twice."
      ],
      "metadata": {
        "id": "-R2eljGLiuL1"
      }
    },
    {
      "cell_type": "markdown",
      "source": [
        "**Problem 2 :**\n",
        "Given an array of integers, print the array in such a way that the first element is first maximum and second element is first minimum and so on.\n",
        "Examples :\n",
        "Input : arr[] = {7, 1, 2, 3, 4, 5, 6}\n",
        "Output : 7 1 6 2 5 3 4\n"
      ],
      "metadata": {
        "id": "cWshM0fXiivP"
      }
    },
    {
      "cell_type": "markdown",
      "source": [
        "**Problem 3 :** Sort an array in wave form\n",
        "Given an unsorted array of integers, sort the array into a wave like array. An array ‘arr[0..n-1]’ is sorted in wave form if arr[0] >= arr[1] <= arr[2] >= arr[3] <= arr[4] >= …..\n",
        "Examples:\n",
        " Input:  arr[] = {10, 5, 6, 3, 2, 20, 100, 80}\n",
        " Output: arr[] = {10, 5, 6, 2, 20, 3, 100, 80} OR\n",
        "             \t{20, 5, 10, 2, 80, 6, 100, 3} OR\n",
        "             \tany other array that is in wave form"
      ],
      "metadata": {
        "id": "UVegKW5zjBPT"
      }
    },
    {
      "cell_type": "markdown",
      "source": [
        "**Problem 4 :**\n",
        "Merge an array of size n into another array of size m+n in sorted order"
      ],
      "metadata": {
        "id": "ghOPBztXkE2t"
      }
    },
    {
      "cell_type": "markdown",
      "source": [
        "**Problem 5 :** Sort an array containing two types of elements\n",
        "We are given an array of 0s and 1s in random order. Segregate 0s on left side and 1s on right side of the array. Traverse array only once.\n",
        "Examples:\n",
        "Input :  arr[] = [0, 1, 0, 1, 0, 0, 1, 1, 1, 0]\n",
        "Output : arr[] = [0, 0, 0, 0, 0, 1, 1, 1, 1, 1]\n"
      ],
      "metadata": {
        "id": "jOMwuGOTkRyn"
      }
    }
  ]
}